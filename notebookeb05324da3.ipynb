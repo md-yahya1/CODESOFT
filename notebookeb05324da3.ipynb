{
 "cells": [
  {
   "cell_type": "code",
   "execution_count": 1,
   "id": "49c1555e",
   "metadata": {
    "execution": {
     "iopub.execute_input": "2025-07-11T13:12:51.648714Z",
     "iopub.status.busy": "2025-07-11T13:12:51.648287Z",
     "iopub.status.idle": "2025-07-11T13:12:53.656565Z",
     "shell.execute_reply": "2025-07-11T13:12:53.655389Z"
    },
    "papermill": {
     "duration": 2.015394,
     "end_time": "2025-07-11T13:12:53.658675",
     "exception": false,
     "start_time": "2025-07-11T13:12:51.643281",
     "status": "completed"
    },
    "tags": []
   },
   "outputs": [],
   "source": [
    "#titanic prediction by yahya.\n",
    "#importing all required modules \n",
    "import numpy as n\n",
    "import pandas as p\n",
    "import matplotlib.pyplot as plt"
   ]
  },
  {
   "cell_type": "code",
   "execution_count": 2,
   "id": "88a785db",
   "metadata": {
    "_cell_guid": "b1076dfc-b9ad-4769-8c92-a6c4dae69d19",
    "_uuid": "8f2839f25d086af736a60e9eeb907d3b93b6e0e5",
    "execution": {
     "iopub.execute_input": "2025-07-11T13:12:53.667881Z",
     "iopub.status.busy": "2025-07-11T13:12:53.667212Z",
     "iopub.status.idle": "2025-07-11T13:12:53.706503Z",
     "shell.execute_reply": "2025-07-11T13:12:53.705460Z"
    },
    "papermill": {
     "duration": 0.045762,
     "end_time": "2025-07-11T13:12:53.708467",
     "exception": false,
     "start_time": "2025-07-11T13:12:53.662705",
     "status": "completed"
    },
    "tags": []
   },
   "outputs": [],
   "source": [
    "train1 = p.read_csv('/kaggle/input/titanicdata/train.csv')\n",
    "test1 =p.read_csv('/kaggle/input/titanicdata/test.csv')"
   ]
  },
  {
   "cell_type": "code",
   "execution_count": 3,
   "id": "60bb564e",
   "metadata": {
    "execution": {
     "iopub.execute_input": "2025-07-11T13:12:53.716226Z",
     "iopub.status.busy": "2025-07-11T13:12:53.715889Z",
     "iopub.status.idle": "2025-07-11T13:12:53.730901Z",
     "shell.execute_reply": "2025-07-11T13:12:53.729891Z"
    },
    "papermill": {
     "duration": 0.020907,
     "end_time": "2025-07-11T13:12:53.732596",
     "exception": false,
     "start_time": "2025-07-11T13:12:53.711689",
     "status": "completed"
    },
    "tags": []
   },
   "outputs": [],
   "source": [
    "# Fixed section:  to fill missing values \n",
    "train1['Age']= train1['Age'].fillna(train1['Age'].median())\n",
    "train1['Embarked'] =train1['Embarked'].fillna('S')\n",
    "test1['Age'] =test1['Age'].fillna(test1['Age'].median())\n",
    "test1['Fare'] = test1['Fare'].fillna(test1['Fare'].median())\n"
   ]
  },
  {
   "cell_type": "code",
   "execution_count": 4,
   "id": "5e4acbdf",
   "metadata": {
    "execution": {
     "iopub.execute_input": "2025-07-11T13:12:53.740521Z",
     "iopub.status.busy": "2025-07-11T13:12:53.739792Z",
     "iopub.status.idle": "2025-07-11T13:12:53.755935Z",
     "shell.execute_reply": "2025-07-11T13:12:53.754932Z"
    },
    "papermill": {
     "duration": 0.021731,
     "end_time": "2025-07-11T13:12:53.757597",
     "exception": false,
     "start_time": "2025-07-11T13:12:53.735866",
     "status": "completed"
    },
    "tags": []
   },
   "outputs": [],
   "source": [
    "# Encode categorical features\n",
    "sexmap ={'male': 0, 'female': 1}\n",
    "embarkedmap = {'S': 0, 'C': 1, 'Q': 2}\n",
    "train1['Sex'] = train1['Sex'].map(sexmap)\n",
    "train1['Embarked'] = train1['Embarked'].map(embarkedmap)\n",
    "test1['Sex'] = test1['Sex'].map(sexmap)\n",
    "test1['Embarked'] = test1['Embarked'].map(embarkedmap)\n"
   ]
  },
  {
   "cell_type": "code",
   "execution_count": 5,
   "id": "b156e4d2",
   "metadata": {
    "execution": {
     "iopub.execute_input": "2025-07-11T13:12:53.765048Z",
     "iopub.status.busy": "2025-07-11T13:12:53.764722Z",
     "iopub.status.idle": "2025-07-11T13:12:53.775297Z",
     "shell.execute_reply": "2025-07-11T13:12:53.774416Z"
    },
    "papermill": {
     "duration": 0.016265,
     "end_time": "2025-07-11T13:12:53.776978",
     "exception": false,
     "start_time": "2025-07-11T13:12:53.760713",
     "status": "completed"
    },
    "tags": []
   },
   "outputs": [],
   "source": [
    "# Selectfeatures\n",
    "features= ['Pclass', 'Sex', 'Age','SibSp', 'Parch', 'Fare', 'Embarked']\n",
    "X_train = train1[features].values\n",
    "y_train =train1['Survived'].values.reshape(-1, 1)\n",
    "X_test = test1[features].values"
   ]
  },
  {
   "cell_type": "code",
   "execution_count": 6,
   "id": "d3fcc589",
   "metadata": {
    "execution": {
     "iopub.execute_input": "2025-07-11T13:12:53.784652Z",
     "iopub.status.busy": "2025-07-11T13:12:53.784301Z",
     "iopub.status.idle": "2025-07-11T13:12:53.790027Z",
     "shell.execute_reply": "2025-07-11T13:12:53.789244Z"
    },
    "papermill": {
     "duration": 0.011458,
     "end_time": "2025-07-11T13:12:53.791536",
     "exception": false,
     "start_time": "2025-07-11T13:12:53.780078",
     "status": "completed"
    },
    "tags": []
   },
   "outputs": [],
   "source": [
    "# normalize\n",
    "X_mean = n.mean(X_train, axis=0)\n",
    "X_std = n.std(X_train, axis=0)\n",
    "X_train = (X_train - X_mean) / X_std\n",
    "X_test = (X_test - X_mean) / X_std"
   ]
  },
  {
   "cell_type": "code",
   "execution_count": 7,
   "id": "156243c3",
   "metadata": {
    "execution": {
     "iopub.execute_input": "2025-07-11T13:12:53.799470Z",
     "iopub.status.busy": "2025-07-11T13:12:53.798593Z",
     "iopub.status.idle": "2025-07-11T13:12:53.803959Z",
     "shell.execute_reply": "2025-07-11T13:12:53.803100Z"
    },
    "papermill": {
     "duration": 0.010799,
     "end_time": "2025-07-11T13:12:53.805451",
     "exception": false,
     "start_time": "2025-07-11T13:12:53.794652",
     "status": "completed"
    },
    "tags": []
   },
   "outputs": [],
   "source": [
    "# add bias column\n",
    "X_train = n.hstack([n.ones((X_train.shape[0],1)), X_train])\n",
    "X_test =n.hstack([n.ones((X_test.shape[0],1)), X_test])\n"
   ]
  },
  {
   "cell_type": "code",
   "execution_count": 8,
   "id": "d35234ae",
   "metadata": {
    "execution": {
     "iopub.execute_input": "2025-07-11T13:12:53.813015Z",
     "iopub.status.busy": "2025-07-11T13:12:53.812420Z",
     "iopub.status.idle": "2025-07-11T13:12:53.816897Z",
     "shell.execute_reply": "2025-07-11T13:12:53.816119Z"
    },
    "papermill": {
     "duration": 0.009939,
     "end_time": "2025-07-11T13:12:53.818444",
     "exception": false,
     "start_time": "2025-07-11T13:12:53.808505",
     "status": "completed"
    },
    "tags": []
   },
   "outputs": [],
   "source": [
    "# sigmoid function\n",
    "def sigmoid(z):\n",
    "    return 1 / (1 + n.exp(-z))"
   ]
  },
  {
   "cell_type": "code",
   "execution_count": 9,
   "id": "2b254445",
   "metadata": {
    "execution": {
     "iopub.execute_input": "2025-07-11T13:12:53.825791Z",
     "iopub.status.busy": "2025-07-11T13:12:53.825449Z",
     "iopub.status.idle": "2025-07-11T13:12:53.830637Z",
     "shell.execute_reply": "2025-07-11T13:12:53.829642Z"
    },
    "papermill": {
     "duration": 0.010533,
     "end_time": "2025-07-11T13:12:53.832213",
     "exception": false,
     "start_time": "2025-07-11T13:12:53.821680",
     "status": "completed"
    },
    "tags": []
   },
   "outputs": [],
   "source": [
    "def compute_loss(y, h):\n",
    "    h = n.clip(h, 1e-7, 1 - 1e-7)\n",
    "    return -n.mean(y * n.log(h) + (1 - y) * n.log(1 - h))\n",
    "\n"
   ]
  },
  {
   "cell_type": "code",
   "execution_count": 10,
   "id": "659232da",
   "metadata": {
    "execution": {
     "iopub.execute_input": "2025-07-11T13:12:53.839396Z",
     "iopub.status.busy": "2025-07-11T13:12:53.839099Z",
     "iopub.status.idle": "2025-07-11T13:12:53.844993Z",
     "shell.execute_reply": "2025-07-11T13:12:53.844093Z"
    },
    "papermill": {
     "duration": 0.011545,
     "end_time": "2025-07-11T13:12:53.846832",
     "exception": false,
     "start_time": "2025-07-11T13:12:53.835287",
     "status": "completed"
    },
    "tags": []
   },
   "outputs": [],
   "source": [
    "def train(X, y, lr=0.1, epochs=1000):\n",
    "    m, num_features = X.shape\n",
    "    theta = n.zeros((num_features, 1))\n",
    "    losses = []\n",
    "\n",
    "    for i in range(epochs):\n",
    "        z = n.dot(X, theta)\n",
    "        h = sigmoid(z)\n",
    "        loss = compute_loss(y, h)\n",
    "        gradient = n.dot(X.T, (h - y)) / m\n",
    "        theta -= lr * gradient\n",
    "        losses.append(loss)\n",
    "\n",
    "    return theta, losses\n",
    "\n"
   ]
  },
  {
   "cell_type": "code",
   "execution_count": 11,
   "id": "7ad2a05a",
   "metadata": {
    "execution": {
     "iopub.execute_input": "2025-07-11T13:12:53.854306Z",
     "iopub.status.busy": "2025-07-11T13:12:53.854011Z",
     "iopub.status.idle": "2025-07-11T13:12:53.958941Z",
     "shell.execute_reply": "2025-07-11T13:12:53.958012Z"
    },
    "papermill": {
     "duration": 0.110735,
     "end_time": "2025-07-11T13:12:53.960752",
     "exception": false,
     "start_time": "2025-07-11T13:12:53.850017",
     "status": "completed"
    },
    "tags": []
   },
   "outputs": [],
   "source": [
    "theta, losses = train(X_train, y_train, lr=0.1, epochs=1000)\n"
   ]
  },
  {
   "cell_type": "code",
   "execution_count": 12,
   "id": "3d941e37",
   "metadata": {
    "execution": {
     "iopub.execute_input": "2025-07-11T13:12:53.968292Z",
     "iopub.status.busy": "2025-07-11T13:12:53.967987Z",
     "iopub.status.idle": "2025-07-11T13:12:54.323352Z",
     "shell.execute_reply": "2025-07-11T13:12:54.322508Z"
    },
    "papermill": {
     "duration": 0.3609,
     "end_time": "2025-07-11T13:12:54.324803",
     "exception": false,
     "start_time": "2025-07-11T13:12:53.963903",
     "status": "completed"
    },
    "tags": []
   },
   "outputs": [
    {
     "data": {
      "image/png": "[encoded data removed]",
      "text/plain": [
       "<Figure size 640x480 with 1 Axes>"
      ]
     },
     "metadata": {},
     "output_type": "display_data"
    }
   ],
   "source": [
    "#ploting the finl graph\n",
    "plt.plot(losses )\n",
    "plt.xlabel(\"Epoch\")\n",
    "plt.ylabel(\"Loss\")\n",
    "plt.title(\"Training Loss Curve\")\n",
    "plt.grid(True)\n",
    "plt.show( )\n"
   ]
  },
  {
   "cell_type": "code",
   "execution_count": 13,
   "id": "175749bc",
   "metadata": {
    "execution": {
     "iopub.execute_input": "2025-07-11T13:12:54.334286Z",
     "iopub.status.busy": "2025-07-11T13:12:54.333921Z",
     "iopub.status.idle": "2025-07-11T13:12:54.338768Z",
     "shell.execute_reply": "2025-07-11T13:12:54.337833Z"
    },
    "papermill": {
     "duration": 0.011289,
     "end_time": "2025-07-11T13:12:54.340213",
     "exception": false,
     "start_time": "2025-07-11T13:12:54.328924",
     "status": "completed"
    },
    "tags": []
   },
   "outputs": [],
   "source": [
    "# Predict on test\n",
    "preds = sigmoid(n.dot(X_test, theta))\n",
    "pre_labels =(preds > 0.5).astype(int)\n"
   ]
  },
  {
   "cell_type": "code",
   "execution_count": 14,
   "id": "bbeace46",
   "metadata": {
    "execution": {
     "iopub.execute_input": "2025-07-11T13:12:54.349545Z",
     "iopub.status.busy": "2025-07-11T13:12:54.349168Z",
     "iopub.status.idle": "2025-07-11T13:12:54.361853Z",
     "shell.execute_reply": "2025-07-11T13:12:54.360511Z"
    },
    "papermill": {
     "duration": 0.018751,
     "end_time": "2025-07-11T13:12:54.363530",
     "exception": false,
     "start_time": "2025-07-11T13:12:54.344779",
     "status": "completed"
    },
    "tags": []
   },
   "outputs": [
    {
     "name": "stdout",
     "output_type": "stream",
     "text": [
      "submission.csv created!\n"
     ]
    }
   ],
   "source": [
    "# Save to submission\n",
    "submission= p.DataFrame({\n",
    "    'PassengerId': test1['PassengerId'],\n",
    "    'Survived': pre_labels.ravel().astype(int)\n",
    "})\n",
    "\n",
    "submission.to_csv('submission.csv', index=False)\n",
    "print(\"submission.csv created!\")"
   ]
  }
 ],
 "metadata": {
  "kaggle": {
   "accelerator": "none",
   "dataSources": [
    {
     "datasetId": 7841245,
     "sourceId": 12431092,
     "sourceType": "datasetVersion"
    }
   ],
   "dockerImageVersionId": 31089,
   "isGpuEnabled": false,
   "isInternetEnabled": false,
   "language": "python",
   "sourceType": "notebook"
  },
  "kernelspec": {
   "display_name": "Python 3",
   "language": "python",
   "name": "python3"
  },
  "language_info": {
   "codemirror_mode": {
    "name": "ipython",
    "version": 3
   },
   "file_extension": ".py",
   "mimetype": "text/x-python",
   "name": "python",
   "nbconvert_exporter": "python",
   "pygments_lexer": "ipython3",
   "version": "3.11.13"
  },
  "papermill": {
   "default_parameters": {},
   "duration": 9.585296,
   "end_time": "2025-07-11T13:12:54.987526",
   "environment_variables": {},
   "exception": null,
   "input_path": "__notebook__.ipynb",
   "output_path": "__notebook__.ipynb",
   "parameters": {},
   "start_time": "2025-07-11T13:12:45.402230",
   "version": "2.6.0"
  }
 },
 "nbformat": 4,
 "nbformat_minor": 5
}
