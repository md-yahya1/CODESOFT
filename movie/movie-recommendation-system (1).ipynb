{
 "cells": [
  {
   "cell_type": "code",
   "execution_count": 1,
   "id": "51d40b54",
   "metadata": {
    "_cell_guid": "b1076dfc-b9ad-4769-8c92-a6c4dae69d19",
    "_uuid": "8f2839f25d086af736a60e9eeb907d3b93b6e0e5",
    "execution": {
     "iopub.execute_input": "2025-07-20T11:20:47.335497Z",
     "iopub.status.busy": "2025-07-20T11:20:47.335107Z",
     "iopub.status.idle": "2025-07-20T11:20:51.065217Z",
     "shell.execute_reply": "2025-07-20T11:20:51.064312Z"
    },
    "papermill": {
     "duration": 3.740315,
     "end_time": "2025-07-20T11:20:51.067188",
     "exception": false,
     "start_time": "2025-07-20T11:20:47.326873",
     "status": "completed"
    },
    "tags": []
   },
   "outputs": [],
   "source": [
    "# Supress Warnings\n",
    "import warnings\n",
    "warnings.filterwarnings('ignore')\n",
    "#Prediction for movie\n",
    "#importing appropriate modules\n",
    "import numpy as np\n",
    "import matplotlib.pyplot as plt\n",
    "import seaborn as sns\n",
    "import pandas as pd\n",
    "import os"
   ]
  },
  {
   "cell_type": "code",
   "execution_count": 2,
   "id": "c6a047a0",
   "metadata": {
    "execution": {
     "iopub.execute_input": "2025-07-20T11:20:51.079050Z",
     "iopub.status.busy": "2025-07-20T11:20:51.078628Z",
     "iopub.status.idle": "2025-07-20T11:20:51.197305Z",
     "shell.execute_reply": "2025-07-20T11:20:51.196251Z"
    },
    "papermill": {
     "duration": 0.126261,
     "end_time": "2025-07-20T11:20:51.198830",
     "exception": false,
     "start_time": "2025-07-20T11:20:51.072569",
     "status": "completed"
    },
    "tags": []
   },
   "outputs": [
    {
     "data": {
      "text/html": [
       "<div>\n",
       "<style scoped>\n",
       "    .dataframe tbody tr th:only-of-type {\n",
       "        vertical-align: middle;\n",
       "    }\n",
       "\n",
       "    .dataframe tbody tr th {\n",
       "        vertical-align: top;\n",
       "    }\n",
       "\n",
       "    .dataframe thead th {\n",
       "        text-align: right;\n",
       "    }\n",
       "</style>\n",
       "<table border=\"1\" class=\"dataframe\">\n",
       "  <thead>\n",
       "    <tr style=\"text-align: right;\">\n",
       "      <th></th>\n",
       "      <th>Name</th>\n",
       "      <th>Year</th>\n",
       "      <th>Duration</th>\n",
       "      <th>Genre</th>\n",
       "      <th>Rating</th>\n",
       "      <th>Votes</th>\n",
       "      <th>Director</th>\n",
       "      <th>Actor 1</th>\n",
       "      <th>Actor 2</th>\n",
       "      <th>Actor 3</th>\n",
       "    </tr>\n",
       "  </thead>\n",
       "  <tbody>\n",
       "    <tr>\n",
       "      <th>0</th>\n",
       "      <td></td>\n",
       "      <td>NaN</td>\n",
       "      <td>NaN</td>\n",
       "      <td>Drama</td>\n",
       "      <td>NaN</td>\n",
       "      <td>NaN</td>\n",
       "      <td>J.S. Randhawa</td>\n",
       "      <td>Manmauji</td>\n",
       "      <td>Birbal</td>\n",
       "      <td>Rajendra Bhatia</td>\n",
       "    </tr>\n",
       "    <tr>\n",
       "      <th>1</th>\n",
       "      <td>#Gadhvi (He thought he was Gandhi)</td>\n",
       "      <td>(2019)</td>\n",
       "      <td>109 min</td>\n",
       "      <td>Drama</td>\n",
       "      <td>7.0</td>\n",
       "      <td>8</td>\n",
       "      <td>Gaurav Bakshi</td>\n",
       "      <td>Rasika Dugal</td>\n",
       "      <td>Vivek Ghamande</td>\n",
       "      <td>Arvind Jangid</td>\n",
       "    </tr>\n",
       "    <tr>\n",
       "      <th>2</th>\n",
       "      <td>#Homecoming</td>\n",
       "      <td>(2021)</td>\n",
       "      <td>90 min</td>\n",
       "      <td>Drama, Musical</td>\n",
       "      <td>NaN</td>\n",
       "      <td>NaN</td>\n",
       "      <td>Soumyajit Majumdar</td>\n",
       "      <td>Sayani Gupta</td>\n",
       "      <td>Plabita Borthakur</td>\n",
       "      <td>Roy Angana</td>\n",
       "    </tr>\n",
       "    <tr>\n",
       "      <th>3</th>\n",
       "      <td>#Yaaram</td>\n",
       "      <td>(2019)</td>\n",
       "      <td>110 min</td>\n",
       "      <td>Comedy, Romance</td>\n",
       "      <td>4.4</td>\n",
       "      <td>35</td>\n",
       "      <td>Ovais Khan</td>\n",
       "      <td>Prateik</td>\n",
       "      <td>Ishita Raj</td>\n",
       "      <td>Siddhant Kapoor</td>\n",
       "    </tr>\n",
       "    <tr>\n",
       "      <th>4</th>\n",
       "      <td>...And Once Again</td>\n",
       "      <td>(2010)</td>\n",
       "      <td>105 min</td>\n",
       "      <td>Drama</td>\n",
       "      <td>NaN</td>\n",
       "      <td>NaN</td>\n",
       "      <td>Amol Palekar</td>\n",
       "      <td>Rajat Kapoor</td>\n",
       "      <td>Rituparna Sengupta</td>\n",
       "      <td>Antara Mali</td>\n",
       "    </tr>\n",
       "    <tr>\n",
       "      <th>...</th>\n",
       "      <td>...</td>\n",
       "      <td>...</td>\n",
       "      <td>...</td>\n",
       "      <td>...</td>\n",
       "      <td>...</td>\n",
       "      <td>...</td>\n",
       "      <td>...</td>\n",
       "      <td>...</td>\n",
       "      <td>...</td>\n",
       "      <td>...</td>\n",
       "    </tr>\n",
       "    <tr>\n",
       "      <th>15504</th>\n",
       "      <td>Zulm Ko Jala Doonga</td>\n",
       "      <td>(1988)</td>\n",
       "      <td>NaN</td>\n",
       "      <td>Action</td>\n",
       "      <td>4.6</td>\n",
       "      <td>11</td>\n",
       "      <td>Mahendra Shah</td>\n",
       "      <td>Naseeruddin Shah</td>\n",
       "      <td>Sumeet Saigal</td>\n",
       "      <td>Suparna Anand</td>\n",
       "    </tr>\n",
       "    <tr>\n",
       "      <th>15505</th>\n",
       "      <td>Zulmi</td>\n",
       "      <td>(1999)</td>\n",
       "      <td>129 min</td>\n",
       "      <td>Action, Drama</td>\n",
       "      <td>4.5</td>\n",
       "      <td>655</td>\n",
       "      <td>Kuku Kohli</td>\n",
       "      <td>Akshay Kumar</td>\n",
       "      <td>Twinkle Khanna</td>\n",
       "      <td>Aruna Irani</td>\n",
       "    </tr>\n",
       "    <tr>\n",
       "      <th>15506</th>\n",
       "      <td>Zulmi Raj</td>\n",
       "      <td>(2005)</td>\n",
       "      <td>NaN</td>\n",
       "      <td>Action</td>\n",
       "      <td>NaN</td>\n",
       "      <td>NaN</td>\n",
       "      <td>Kiran Thej</td>\n",
       "      <td>Sangeeta Tiwari</td>\n",
       "      <td>NaN</td>\n",
       "      <td>NaN</td>\n",
       "    </tr>\n",
       "    <tr>\n",
       "      <th>15507</th>\n",
       "      <td>Zulmi Shikari</td>\n",
       "      <td>(1988)</td>\n",
       "      <td>NaN</td>\n",
       "      <td>Action</td>\n",
       "      <td>NaN</td>\n",
       "      <td>NaN</td>\n",
       "      <td>NaN</td>\n",
       "      <td>NaN</td>\n",
       "      <td>NaN</td>\n",
       "      <td>NaN</td>\n",
       "    </tr>\n",
       "    <tr>\n",
       "      <th>15508</th>\n",
       "      <td>Zulm-O-Sitam</td>\n",
       "      <td>(1998)</td>\n",
       "      <td>130 min</td>\n",
       "      <td>Action, Drama</td>\n",
       "      <td>6.2</td>\n",
       "      <td>20</td>\n",
       "      <td>K.C. Bokadia</td>\n",
       "      <td>Dharmendra</td>\n",
       "      <td>Jaya Prada</td>\n",
       "      <td>Arjun Sarja</td>\n",
       "    </tr>\n",
       "  </tbody>\n",
       "</table>\n",
       "<p>15509 rows × 10 columns</p>\n",
       "</div>"
      ],
      "text/plain": [
       "                                     Name    Year Duration            Genre  \\\n",
       "0                                             NaN      NaN            Drama   \n",
       "1      #Gadhvi (He thought he was Gandhi)  (2019)  109 min            Drama   \n",
       "2                             #Homecoming  (2021)   90 min   Drama, Musical   \n",
       "3                                 #Yaaram  (2019)  110 min  Comedy, Romance   \n",
       "4                       ...And Once Again  (2010)  105 min            Drama   \n",
       "...                                   ...     ...      ...              ...   \n",
       "15504                 Zulm Ko Jala Doonga  (1988)      NaN           Action   \n",
       "15505                               Zulmi  (1999)  129 min    Action, Drama   \n",
       "15506                           Zulmi Raj  (2005)      NaN           Action   \n",
       "15507                       Zulmi Shikari  (1988)      NaN           Action   \n",
       "15508                        Zulm-O-Sitam  (1998)  130 min    Action, Drama   \n",
       "\n",
       "       Rating Votes            Director           Actor 1             Actor 2  \\\n",
       "0         NaN   NaN       J.S. Randhawa          Manmauji              Birbal   \n",
       "1         7.0     8       Gaurav Bakshi      Rasika Dugal      Vivek Ghamande   \n",
       "2         NaN   NaN  Soumyajit Majumdar      Sayani Gupta   Plabita Borthakur   \n",
       "3         4.4    35          Ovais Khan           Prateik          Ishita Raj   \n",
       "4         NaN   NaN        Amol Palekar      Rajat Kapoor  Rituparna Sengupta   \n",
       "...       ...   ...                 ...               ...                 ...   \n",
       "15504     4.6    11       Mahendra Shah  Naseeruddin Shah       Sumeet Saigal   \n",
       "15505     4.5   655          Kuku Kohli      Akshay Kumar      Twinkle Khanna   \n",
       "15506     NaN   NaN          Kiran Thej   Sangeeta Tiwari                 NaN   \n",
       "15507     NaN   NaN                 NaN               NaN                 NaN   \n",
       "15508     6.2    20        K.C. Bokadia        Dharmendra          Jaya Prada   \n",
       "\n",
       "               Actor 3  \n",
       "0      Rajendra Bhatia  \n",
       "1        Arvind Jangid  \n",
       "2           Roy Angana  \n",
       "3      Siddhant Kapoor  \n",
       "4          Antara Mali  \n",
       "...                ...  \n",
       "15504    Suparna Anand  \n",
       "15505      Aruna Irani  \n",
       "15506              NaN  \n",
       "15507              NaN  \n",
       "15508      Arjun Sarja  \n",
       "\n",
       "[15509 rows x 10 columns]"
      ]
     },
     "execution_count": 2,
     "metadata": {},
     "output_type": "execute_result"
    }
   ],
   "source": [
    "#Creating an dataframe\n",
    "dataframe = pd.read_csv('/kaggle/input/imdb-india-movies/IMDb Movies India.csv', encoding='ISO-8859-1')\n",
    "dataframe\n"
   ]
  },
  {
   "cell_type": "code",
   "execution_count": 3,
   "id": "6ba5d2bd",
   "metadata": {
    "execution": {
     "iopub.execute_input": "2025-07-20T11:20:51.211057Z",
     "iopub.status.busy": "2025-07-20T11:20:51.210730Z",
     "iopub.status.idle": "2025-07-20T11:20:51.216392Z",
     "shell.execute_reply": "2025-07-20T11:20:51.215652Z"
    },
    "papermill": {
     "duration": 0.013533,
     "end_time": "2025-07-20T11:20:51.217828",
     "exception": false,
     "start_time": "2025-07-20T11:20:51.204295",
     "status": "completed"
    },
    "tags": []
   },
   "outputs": [
    {
     "data": {
      "text/plain": [
       "(15509, 10)"
      ]
     },
     "execution_count": 3,
     "metadata": {},
     "output_type": "execute_result"
    }
   ],
   "source": [
    "dataframe.shape"
   ]
  },
  {
   "cell_type": "code",
   "execution_count": 4,
   "id": "55c03652",
   "metadata": {
    "execution": {
     "iopub.execute_input": "2025-07-20T11:20:51.230221Z",
     "iopub.status.busy": "2025-07-20T11:20:51.229527Z",
     "iopub.status.idle": "2025-07-20T11:20:51.259188Z",
     "shell.execute_reply": "2025-07-20T11:20:51.258002Z"
    },
    "papermill": {
     "duration": 0.037597,
     "end_time": "2025-07-20T11:20:51.260782",
     "exception": false,
     "start_time": "2025-07-20T11:20:51.223185",
     "status": "completed"
    },
    "tags": []
   },
   "outputs": [
    {
     "name": "stdout",
     "output_type": "stream",
     "text": [
      "<class 'pandas.core.frame.DataFrame'>\n",
      "RangeIndex: 15509 entries, 0 to 15508\n",
      "Data columns (total 10 columns):\n",
      " #   Column    Non-Null Count  Dtype  \n",
      "---  ------    --------------  -----  \n",
      " 0   Name      15509 non-null  object \n",
      " 1   Year      14981 non-null  object \n",
      " 2   Duration  7240 non-null   object \n",
      " 3   Genre     13632 non-null  object \n",
      " 4   Rating    7919 non-null   float64\n",
      " 5   Votes     7920 non-null   object \n",
      " 6   Director  14984 non-null  object \n",
      " 7   Actor 1   13892 non-null  object \n",
      " 8   Actor 2   13125 non-null  object \n",
      " 9   Actor 3   12365 non-null  object \n",
      "dtypes: float64(1), object(9)\n",
      "memory usage: 1.2+ MB\n"
     ]
    }
   ],
   "source": [
    "#Cleaning the data\n",
    "dataframe.info()"
   ]
  },
  {
   "cell_type": "code",
   "execution_count": 5,
   "id": "3a790700",
   "metadata": {
    "execution": {
     "iopub.execute_input": "2025-07-20T11:20:51.272977Z",
     "iopub.status.busy": "2025-07-20T11:20:51.272671Z",
     "iopub.status.idle": "2025-07-20T11:20:51.287485Z",
     "shell.execute_reply": "2025-07-20T11:20:51.286622Z"
    },
    "papermill": {
     "duration": 0.022578,
     "end_time": "2025-07-20T11:20:51.288849",
     "exception": false,
     "start_time": "2025-07-20T11:20:51.266271",
     "status": "completed"
    },
    "tags": []
   },
   "outputs": [
    {
     "data": {
      "text/plain": [
       "Name           0\n",
       "Year         528\n",
       "Duration    8269\n",
       "Genre       1877\n",
       "Rating      7590\n",
       "Votes       7589\n",
       "Director     525\n",
       "Actor 1     1617\n",
       "Actor 2     2384\n",
       "Actor 3     3144\n",
       "dtype: int64"
      ]
     },
     "execution_count": 5,
     "metadata": {},
     "output_type": "execute_result"
    }
   ],
   "source": [
    "#Checking NaN values!\n",
    "dataframe.isna().sum()"
   ]
  },
  {
   "cell_type": "code",
   "execution_count": 6,
   "id": "1d4fa987",
   "metadata": {
    "execution": {
     "iopub.execute_input": "2025-07-20T11:20:51.301166Z",
     "iopub.status.busy": "2025-07-20T11:20:51.300837Z",
     "iopub.status.idle": "2025-07-20T11:20:51.322039Z",
     "shell.execute_reply": "2025-07-20T11:20:51.321219Z"
    },
    "papermill": {
     "duration": 0.029098,
     "end_time": "2025-07-20T11:20:51.323487",
     "exception": false,
     "start_time": "2025-07-20T11:20:51.294389",
     "status": "completed"
    },
    "tags": []
   },
   "outputs": [
    {
     "data": {
      "text/plain": [
       "6"
      ]
     },
     "execution_count": 6,
     "metadata": {},
     "output_type": "execute_result"
    }
   ],
   "source": [
    "dataframe.duplicated().sum()"
   ]
  },
  {
   "cell_type": "code",
   "execution_count": 7,
   "id": "b1204cdc",
   "metadata": {
    "execution": {
     "iopub.execute_input": "2025-07-20T11:20:51.336613Z",
     "iopub.status.busy": "2025-07-20T11:20:51.336261Z",
     "iopub.status.idle": "2025-07-20T11:20:51.358340Z",
     "shell.execute_reply": "2025-07-20T11:20:51.357482Z"
    },
    "papermill": {
     "duration": 0.03112,
     "end_time": "2025-07-20T11:20:51.360128",
     "exception": false,
     "start_time": "2025-07-20T11:20:51.329008",
     "status": "completed"
    },
    "tags": []
   },
   "outputs": [],
   "source": [
    "#Handling the duplicated values\n",
    "dataframe.drop_duplicates(inplace=True)"
   ]
  },
  {
   "cell_type": "code",
   "execution_count": 8,
   "id": "e49042ac",
   "metadata": {
    "execution": {
     "iopub.execute_input": "2025-07-20T11:20:51.372980Z",
     "iopub.status.busy": "2025-07-20T11:20:51.372593Z",
     "iopub.status.idle": "2025-07-20T11:20:51.391836Z",
     "shell.execute_reply": "2025-07-20T11:20:51.390759Z"
    },
    "papermill": {
     "duration": 0.027696,
     "end_time": "2025-07-20T11:20:51.393528",
     "exception": false,
     "start_time": "2025-07-20T11:20:51.365832",
     "status": "completed"
    },
    "tags": []
   },
   "outputs": [
    {
     "name": "stdout",
     "output_type": "stream",
     "text": [
      "<class 'pandas.core.frame.DataFrame'>\n",
      "Index: 15503 entries, 0 to 15508\n",
      "Data columns (total 10 columns):\n",
      " #   Column    Non-Null Count  Dtype  \n",
      "---  ------    --------------  -----  \n",
      " 0   Name      15503 non-null  object \n",
      " 1   Year      14976 non-null  object \n",
      " 2   Duration  7239 non-null   object \n",
      " 3   Genre     13627 non-null  object \n",
      " 4   Rating    7919 non-null   float64\n",
      " 5   Votes     7920 non-null   object \n",
      " 6   Director  14979 non-null  object \n",
      " 7   Actor 1   13888 non-null  object \n",
      " 8   Actor 2   13122 non-null  object \n",
      " 9   Actor 3   12363 non-null  object \n",
      "dtypes: float64(1), object(9)\n",
      "memory usage: 1.3+ MB\n"
     ]
    }
   ],
   "source": [
    "#printing the dataframe\n",
    "dataframe.info()"
   ]
  },
  {
   "cell_type": "code",
   "execution_count": 9,
   "id": "dc56974c",
   "metadata": {
    "execution": {
     "iopub.execute_input": "2025-07-20T11:20:51.406257Z",
     "iopub.status.busy": "2025-07-20T11:20:51.405933Z",
     "iopub.status.idle": "2025-07-20T11:20:51.411658Z",
     "shell.execute_reply": "2025-07-20T11:20:51.410846Z"
    },
    "papermill": {
     "duration": 0.013684,
     "end_time": "2025-07-20T11:20:51.412947",
     "exception": false,
     "start_time": "2025-07-20T11:20:51.399263",
     "status": "completed"
    },
    "tags": []
   },
   "outputs": [
    {
     "data": {
      "text/plain": [
       "(15503, 10)"
      ]
     },
     "execution_count": 9,
     "metadata": {},
     "output_type": "execute_result"
    }
   ],
   "source": [
    "#displaying the shape of dataframe\n",
    "dataframe.shape"
   ]
  },
  {
   "cell_type": "code",
   "execution_count": 10,
   "id": "33fad325",
   "metadata": {
    "execution": {
     "iopub.execute_input": "2025-07-20T11:20:51.426125Z",
     "iopub.status.busy": "2025-07-20T11:20:51.425398Z",
     "iopub.status.idle": "2025-07-20T11:20:51.490987Z",
     "shell.execute_reply": "2025-07-20T11:20:51.489949Z"
    },
    "papermill": {
     "duration": 0.073923,
     "end_time": "2025-07-20T11:20:51.492771",
     "exception": false,
     "start_time": "2025-07-20T11:20:51.418848",
     "status": "completed"
    },
    "tags": []
   },
   "outputs": [],
   "source": [
    "# 1️⃣ Clean 'Year' column safely\n",
    "dataframe['Year'] = dataframe['Year'].astype(str).str.replace(r'\\(|\\)', '', regex=True)\n",
    "dataframe['Year'] = pd.to_numeric(dataframe['Year'], errors='coerce')   # invalid -> NaN\n",
    "\n",
    "# 2️⃣ Clean 'Duration' column safely\n",
    "dataframe['Duration'] = dataframe['Duration'].astype(str).str.replace(' min', '', regex=False)\n",
    "dataframe['Duration'] = pd.to_numeric(dataframe['Duration'], errors='coerce')\n",
    "\n",
    "# 3️⃣ Clean 'Votes' column safely\n",
    "dataframe['Votes'] = dataframe['Votes'].astype(str).str.replace(',', '', regex=False)\n",
    "dataframe['Votes'] = pd.to_numeric(dataframe['Votes'], errors='coerce')\n"
   ]
  },
  {
   "cell_type": "code",
   "execution_count": 11,
   "id": "f7014d31",
   "metadata": {
    "execution": {
     "iopub.execute_input": "2025-07-20T11:20:51.506219Z",
     "iopub.status.busy": "2025-07-20T11:20:51.505472Z",
     "iopub.status.idle": "2025-07-20T11:20:51.512747Z",
     "shell.execute_reply": "2025-07-20T11:20:51.511777Z"
    },
    "papermill": {
     "duration": 0.015587,
     "end_time": "2025-07-20T11:20:51.514266",
     "exception": false,
     "start_time": "2025-07-20T11:20:51.498679",
     "status": "completed"
    },
    "tags": []
   },
   "outputs": [
    {
     "data": {
      "text/plain": [
       "Name         object\n",
       "Year        float64\n",
       "Duration    float64\n",
       "Genre        object\n",
       "Rating      float64\n",
       "Votes       float64\n",
       "Director     object\n",
       "Actor 1      object\n",
       "Actor 2      object\n",
       "Actor 3      object\n",
       "dtype: object"
      ]
     },
     "execution_count": 11,
     "metadata": {},
     "output_type": "execute_result"
    }
   ],
   "source": [
    "dataframe.dtypes"
   ]
  },
  {
   "cell_type": "code",
   "execution_count": 12,
   "id": "5e1ecc3a",
   "metadata": {
    "execution": {
     "iopub.execute_input": "2025-07-20T11:20:51.527298Z",
     "iopub.status.busy": "2025-07-20T11:20:51.526980Z",
     "iopub.status.idle": "2025-07-20T11:20:51.544639Z",
     "shell.execute_reply": "2025-07-20T11:20:51.543628Z"
    },
    "papermill": {
     "duration": 0.025988,
     "end_time": "2025-07-20T11:20:51.546224",
     "exception": false,
     "start_time": "2025-07-20T11:20:51.520236",
     "status": "completed"
    },
    "tags": []
   },
   "outputs": [
    {
     "data": {
      "text/html": [
       "<div>\n",
       "<style scoped>\n",
       "    .dataframe tbody tr th:only-of-type {\n",
       "        vertical-align: middle;\n",
       "    }\n",
       "\n",
       "    .dataframe tbody tr th {\n",
       "        vertical-align: top;\n",
       "    }\n",
       "\n",
       "    .dataframe thead th {\n",
       "        text-align: right;\n",
       "    }\n",
       "</style>\n",
       "<table border=\"1\" class=\"dataframe\">\n",
       "  <thead>\n",
       "    <tr style=\"text-align: right;\">\n",
       "      <th></th>\n",
       "      <th>Name</th>\n",
       "      <th>Year</th>\n",
       "      <th>Duration</th>\n",
       "      <th>Genre</th>\n",
       "      <th>Rating</th>\n",
       "      <th>Votes</th>\n",
       "      <th>Director</th>\n",
       "      <th>Actor 1</th>\n",
       "      <th>Actor 2</th>\n",
       "      <th>Actor 3</th>\n",
       "    </tr>\n",
       "  </thead>\n",
       "  <tbody>\n",
       "    <tr>\n",
       "      <th>0</th>\n",
       "      <td></td>\n",
       "      <td>NaN</td>\n",
       "      <td>NaN</td>\n",
       "      <td>Drama</td>\n",
       "      <td>NaN</td>\n",
       "      <td>NaN</td>\n",
       "      <td>J.S. Randhawa</td>\n",
       "      <td>Manmauji</td>\n",
       "      <td>Birbal</td>\n",
       "      <td>Rajendra Bhatia</td>\n",
       "    </tr>\n",
       "    <tr>\n",
       "      <th>1</th>\n",
       "      <td>#Gadhvi (He thought he was Gandhi)</td>\n",
       "      <td>2019.0</td>\n",
       "      <td>109.0</td>\n",
       "      <td>Drama</td>\n",
       "      <td>7.0</td>\n",
       "      <td>8.0</td>\n",
       "      <td>Gaurav Bakshi</td>\n",
       "      <td>Rasika Dugal</td>\n",
       "      <td>Vivek Ghamande</td>\n",
       "      <td>Arvind Jangid</td>\n",
       "    </tr>\n",
       "    <tr>\n",
       "      <th>2</th>\n",
       "      <td>#Homecoming</td>\n",
       "      <td>2021.0</td>\n",
       "      <td>90.0</td>\n",
       "      <td>Drama, Musical</td>\n",
       "      <td>NaN</td>\n",
       "      <td>NaN</td>\n",
       "      <td>Soumyajit Majumdar</td>\n",
       "      <td>Sayani Gupta</td>\n",
       "      <td>Plabita Borthakur</td>\n",
       "      <td>Roy Angana</td>\n",
       "    </tr>\n",
       "    <tr>\n",
       "      <th>3</th>\n",
       "      <td>#Yaaram</td>\n",
       "      <td>2019.0</td>\n",
       "      <td>110.0</td>\n",
       "      <td>Comedy, Romance</td>\n",
       "      <td>4.4</td>\n",
       "      <td>35.0</td>\n",
       "      <td>Ovais Khan</td>\n",
       "      <td>Prateik</td>\n",
       "      <td>Ishita Raj</td>\n",
       "      <td>Siddhant Kapoor</td>\n",
       "    </tr>\n",
       "    <tr>\n",
       "      <th>4</th>\n",
       "      <td>...And Once Again</td>\n",
       "      <td>2010.0</td>\n",
       "      <td>105.0</td>\n",
       "      <td>Drama</td>\n",
       "      <td>NaN</td>\n",
       "      <td>NaN</td>\n",
       "      <td>Amol Palekar</td>\n",
       "      <td>Rajat Kapoor</td>\n",
       "      <td>Rituparna Sengupta</td>\n",
       "      <td>Antara Mali</td>\n",
       "    </tr>\n",
       "    <tr>\n",
       "      <th>...</th>\n",
       "      <td>...</td>\n",
       "      <td>...</td>\n",
       "      <td>...</td>\n",
       "      <td>...</td>\n",
       "      <td>...</td>\n",
       "      <td>...</td>\n",
       "      <td>...</td>\n",
       "      <td>...</td>\n",
       "      <td>...</td>\n",
       "      <td>...</td>\n",
       "    </tr>\n",
       "    <tr>\n",
       "      <th>15504</th>\n",
       "      <td>Zulm Ko Jala Doonga</td>\n",
       "      <td>1988.0</td>\n",
       "      <td>NaN</td>\n",
       "      <td>Action</td>\n",
       "      <td>4.6</td>\n",
       "      <td>11.0</td>\n",
       "      <td>Mahendra Shah</td>\n",
       "      <td>Naseeruddin Shah</td>\n",
       "      <td>Sumeet Saigal</td>\n",
       "      <td>Suparna Anand</td>\n",
       "    </tr>\n",
       "    <tr>\n",
       "      <th>15505</th>\n",
       "      <td>Zulmi</td>\n",
       "      <td>1999.0</td>\n",
       "      <td>129.0</td>\n",
       "      <td>Action, Drama</td>\n",
       "      <td>4.5</td>\n",
       "      <td>655.0</td>\n",
       "      <td>Kuku Kohli</td>\n",
       "      <td>Akshay Kumar</td>\n",
       "      <td>Twinkle Khanna</td>\n",
       "      <td>Aruna Irani</td>\n",
       "    </tr>\n",
       "    <tr>\n",
       "      <th>15506</th>\n",
       "      <td>Zulmi Raj</td>\n",
       "      <td>2005.0</td>\n",
       "      <td>NaN</td>\n",
       "      <td>Action</td>\n",
       "      <td>NaN</td>\n",
       "      <td>NaN</td>\n",
       "      <td>Kiran Thej</td>\n",
       "      <td>Sangeeta Tiwari</td>\n",
       "      <td>NaN</td>\n",
       "      <td>NaN</td>\n",
       "    </tr>\n",
       "    <tr>\n",
       "      <th>15507</th>\n",
       "      <td>Zulmi Shikari</td>\n",
       "      <td>1988.0</td>\n",
       "      <td>NaN</td>\n",
       "      <td>Action</td>\n",
       "      <td>NaN</td>\n",
       "      <td>NaN</td>\n",
       "      <td>NaN</td>\n",
       "      <td>NaN</td>\n",
       "      <td>NaN</td>\n",
       "      <td>NaN</td>\n",
       "    </tr>\n",
       "    <tr>\n",
       "      <th>15508</th>\n",
       "      <td>Zulm-O-Sitam</td>\n",
       "      <td>1998.0</td>\n",
       "      <td>130.0</td>\n",
       "      <td>Action, Drama</td>\n",
       "      <td>6.2</td>\n",
       "      <td>20.0</td>\n",
       "      <td>K.C. Bokadia</td>\n",
       "      <td>Dharmendra</td>\n",
       "      <td>Jaya Prada</td>\n",
       "      <td>Arjun Sarja</td>\n",
       "    </tr>\n",
       "  </tbody>\n",
       "</table>\n",
       "<p>15503 rows × 10 columns</p>\n",
       "</div>"
      ],
      "text/plain": [
       "                                     Name    Year  Duration            Genre  \\\n",
       "0                                             NaN       NaN            Drama   \n",
       "1      #Gadhvi (He thought he was Gandhi)  2019.0     109.0            Drama   \n",
       "2                             #Homecoming  2021.0      90.0   Drama, Musical   \n",
       "3                                 #Yaaram  2019.0     110.0  Comedy, Romance   \n",
       "4                       ...And Once Again  2010.0     105.0            Drama   \n",
       "...                                   ...     ...       ...              ...   \n",
       "15504                 Zulm Ko Jala Doonga  1988.0       NaN           Action   \n",
       "15505                               Zulmi  1999.0     129.0    Action, Drama   \n",
       "15506                           Zulmi Raj  2005.0       NaN           Action   \n",
       "15507                       Zulmi Shikari  1988.0       NaN           Action   \n",
       "15508                        Zulm-O-Sitam  1998.0     130.0    Action, Drama   \n",
       "\n",
       "       Rating  Votes            Director           Actor 1  \\\n",
       "0         NaN    NaN       J.S. Randhawa          Manmauji   \n",
       "1         7.0    8.0       Gaurav Bakshi      Rasika Dugal   \n",
       "2         NaN    NaN  Soumyajit Majumdar      Sayani Gupta   \n",
       "3         4.4   35.0          Ovais Khan           Prateik   \n",
       "4         NaN    NaN        Amol Palekar      Rajat Kapoor   \n",
       "...       ...    ...                 ...               ...   \n",
       "15504     4.6   11.0       Mahendra Shah  Naseeruddin Shah   \n",
       "15505     4.5  655.0          Kuku Kohli      Akshay Kumar   \n",
       "15506     NaN    NaN          Kiran Thej   Sangeeta Tiwari   \n",
       "15507     NaN    NaN                 NaN               NaN   \n",
       "15508     6.2   20.0        K.C. Bokadia        Dharmendra   \n",
       "\n",
       "                  Actor 2          Actor 3  \n",
       "0                  Birbal  Rajendra Bhatia  \n",
       "1          Vivek Ghamande    Arvind Jangid  \n",
       "2       Plabita Borthakur       Roy Angana  \n",
       "3              Ishita Raj  Siddhant Kapoor  \n",
       "4      Rituparna Sengupta      Antara Mali  \n",
       "...                   ...              ...  \n",
       "15504       Sumeet Saigal    Suparna Anand  \n",
       "15505      Twinkle Khanna      Aruna Irani  \n",
       "15506                 NaN              NaN  \n",
       "15507                 NaN              NaN  \n",
       "15508          Jaya Prada      Arjun Sarja  \n",
       "\n",
       "[15503 rows x 10 columns]"
      ]
     },
     "execution_count": 12,
     "metadata": {},
     "output_type": "execute_result"
    }
   ],
   "source": [
    "dataframe"
   ]
  },
  {
   "cell_type": "code",
   "execution_count": 13,
   "id": "7eb955de",
   "metadata": {
    "execution": {
     "iopub.execute_input": "2025-07-20T11:20:51.560683Z",
     "iopub.status.busy": "2025-07-20T11:20:51.559917Z",
     "iopub.status.idle": "2025-07-20T11:20:51.576182Z",
     "shell.execute_reply": "2025-07-20T11:20:51.575028Z"
    },
    "papermill": {
     "duration": 0.024883,
     "end_time": "2025-07-20T11:20:51.577800",
     "exception": false,
     "start_time": "2025-07-20T11:20:51.552917",
     "status": "completed"
    },
    "tags": []
   },
   "outputs": [
    {
     "name": "stdout",
     "output_type": "stream",
     "text": [
      "<class 'pandas.core.frame.DataFrame'>\n",
      "Index: 15503 entries, 0 to 15508\n",
      "Data columns (total 10 columns):\n",
      " #   Column    Non-Null Count  Dtype  \n",
      "---  ------    --------------  -----  \n",
      " 0   Name      15503 non-null  object \n",
      " 1   Year      14976 non-null  float64\n",
      " 2   Duration  7239 non-null   float64\n",
      " 3   Genre     13627 non-null  object \n",
      " 4   Rating    7919 non-null   float64\n",
      " 5   Votes     7919 non-null   float64\n",
      " 6   Director  14979 non-null  object \n",
      " 7   Actor 1   13888 non-null  object \n",
      " 8   Actor 2   13122 non-null  object \n",
      " 9   Actor 3   12363 non-null  object \n",
      "dtypes: float64(4), object(6)\n",
      "memory usage: 1.3+ MB\n"
     ]
    }
   ],
   "source": [
    "dataframe.info()"
   ]
  },
  {
   "cell_type": "code",
   "execution_count": 14,
   "id": "5b3f7077",
   "metadata": {
    "execution": {
     "iopub.execute_input": "2025-07-20T11:20:51.591519Z",
     "iopub.status.busy": "2025-07-20T11:20:51.591145Z",
     "iopub.status.idle": "2025-07-20T11:20:51.653254Z",
     "shell.execute_reply": "2025-07-20T11:20:51.652446Z"
    },
    "papermill": {
     "duration": 0.070763,
     "end_time": "2025-07-20T11:20:51.654810",
     "exception": false,
     "start_time": "2025-07-20T11:20:51.584047",
     "status": "completed"
    },
    "tags": []
   },
   "outputs": [
    {
     "data": {
      "text/html": [
       "<div>\n",
       "<style scoped>\n",
       "    .dataframe tbody tr th:only-of-type {\n",
       "        vertical-align: middle;\n",
       "    }\n",
       "\n",
       "    .dataframe tbody tr th {\n",
       "        vertical-align: top;\n",
       "    }\n",
       "\n",
       "    .dataframe thead th {\n",
       "        text-align: right;\n",
       "    }\n",
       "</style>\n",
       "<table border=\"1\" class=\"dataframe\">\n",
       "  <thead>\n",
       "    <tr style=\"text-align: right;\">\n",
       "      <th></th>\n",
       "      <th>Name</th>\n",
       "      <th>Year</th>\n",
       "      <th>Duration</th>\n",
       "      <th>Genre</th>\n",
       "      <th>Rating</th>\n",
       "      <th>Votes</th>\n",
       "      <th>Director</th>\n",
       "      <th>Actor 1</th>\n",
       "      <th>Actor 2</th>\n",
       "      <th>Actor 3</th>\n",
       "    </tr>\n",
       "  </thead>\n",
       "  <tbody>\n",
       "    <tr>\n",
       "      <th>count</th>\n",
       "      <td>15503</td>\n",
       "      <td>14976.000000</td>\n",
       "      <td>7239.000000</td>\n",
       "      <td>13627</td>\n",
       "      <td>7919.000000</td>\n",
       "      <td>7919.000000</td>\n",
       "      <td>14979</td>\n",
       "      <td>13888</td>\n",
       "      <td>13122</td>\n",
       "      <td>12363</td>\n",
       "    </tr>\n",
       "    <tr>\n",
       "      <th>unique</th>\n",
       "      <td>13838</td>\n",
       "      <td>NaN</td>\n",
       "      <td>NaN</td>\n",
       "      <td>485</td>\n",
       "      <td>NaN</td>\n",
       "      <td>NaN</td>\n",
       "      <td>5938</td>\n",
       "      <td>4718</td>\n",
       "      <td>4891</td>\n",
       "      <td>4820</td>\n",
       "    </tr>\n",
       "    <tr>\n",
       "      <th>top</th>\n",
       "      <td>Anjaam</td>\n",
       "      <td>NaN</td>\n",
       "      <td>NaN</td>\n",
       "      <td>Drama</td>\n",
       "      <td>NaN</td>\n",
       "      <td>NaN</td>\n",
       "      <td>Jayant Desai</td>\n",
       "      <td>Ashok Kumar</td>\n",
       "      <td>Rekha</td>\n",
       "      <td>Pran</td>\n",
       "    </tr>\n",
       "    <tr>\n",
       "      <th>freq</th>\n",
       "      <td>7</td>\n",
       "      <td>NaN</td>\n",
       "      <td>NaN</td>\n",
       "      <td>2779</td>\n",
       "      <td>NaN</td>\n",
       "      <td>NaN</td>\n",
       "      <td>58</td>\n",
       "      <td>158</td>\n",
       "      <td>83</td>\n",
       "      <td>91</td>\n",
       "    </tr>\n",
       "    <tr>\n",
       "      <th>mean</th>\n",
       "      <td>NaN</td>\n",
       "      <td>1987.006677</td>\n",
       "      <td>128.127918</td>\n",
       "      <td>NaN</td>\n",
       "      <td>5.841621</td>\n",
       "      <td>1938.520394</td>\n",
       "      <td>NaN</td>\n",
       "      <td>NaN</td>\n",
       "      <td>NaN</td>\n",
       "      <td>NaN</td>\n",
       "    </tr>\n",
       "    <tr>\n",
       "      <th>std</th>\n",
       "      <td>NaN</td>\n",
       "      <td>25.417491</td>\n",
       "      <td>28.914476</td>\n",
       "      <td>NaN</td>\n",
       "      <td>1.381777</td>\n",
       "      <td>11602.415952</td>\n",
       "      <td>NaN</td>\n",
       "      <td>NaN</td>\n",
       "      <td>NaN</td>\n",
       "      <td>NaN</td>\n",
       "    </tr>\n",
       "    <tr>\n",
       "      <th>min</th>\n",
       "      <td>NaN</td>\n",
       "      <td>1913.000000</td>\n",
       "      <td>2.000000</td>\n",
       "      <td>NaN</td>\n",
       "      <td>1.100000</td>\n",
       "      <td>5.000000</td>\n",
       "      <td>NaN</td>\n",
       "      <td>NaN</td>\n",
       "      <td>NaN</td>\n",
       "      <td>NaN</td>\n",
       "    </tr>\n",
       "    <tr>\n",
       "      <th>25%</th>\n",
       "      <td>NaN</td>\n",
       "      <td>1968.000000</td>\n",
       "      <td>110.000000</td>\n",
       "      <td>NaN</td>\n",
       "      <td>4.900000</td>\n",
       "      <td>16.000000</td>\n",
       "      <td>NaN</td>\n",
       "      <td>NaN</td>\n",
       "      <td>NaN</td>\n",
       "      <td>NaN</td>\n",
       "    </tr>\n",
       "    <tr>\n",
       "      <th>50%</th>\n",
       "      <td>NaN</td>\n",
       "      <td>1991.000000</td>\n",
       "      <td>131.000000</td>\n",
       "      <td>NaN</td>\n",
       "      <td>6.000000</td>\n",
       "      <td>55.000000</td>\n",
       "      <td>NaN</td>\n",
       "      <td>NaN</td>\n",
       "      <td>NaN</td>\n",
       "      <td>NaN</td>\n",
       "    </tr>\n",
       "    <tr>\n",
       "      <th>75%</th>\n",
       "      <td>NaN</td>\n",
       "      <td>2009.000000</td>\n",
       "      <td>147.000000</td>\n",
       "      <td>NaN</td>\n",
       "      <td>6.800000</td>\n",
       "      <td>404.000000</td>\n",
       "      <td>NaN</td>\n",
       "      <td>NaN</td>\n",
       "      <td>NaN</td>\n",
       "      <td>NaN</td>\n",
       "    </tr>\n",
       "    <tr>\n",
       "      <th>max</th>\n",
       "      <td>NaN</td>\n",
       "      <td>2022.000000</td>\n",
       "      <td>321.000000</td>\n",
       "      <td>NaN</td>\n",
       "      <td>10.000000</td>\n",
       "      <td>591417.000000</td>\n",
       "      <td>NaN</td>\n",
       "      <td>NaN</td>\n",
       "      <td>NaN</td>\n",
       "      <td>NaN</td>\n",
       "    </tr>\n",
       "  </tbody>\n",
       "</table>\n",
       "</div>"
      ],
      "text/plain": [
       "          Name          Year     Duration  Genre       Rating          Votes  \\\n",
       "count    15503  14976.000000  7239.000000  13627  7919.000000    7919.000000   \n",
       "unique   13838           NaN          NaN    485          NaN            NaN   \n",
       "top     Anjaam           NaN          NaN  Drama          NaN            NaN   \n",
       "freq         7           NaN          NaN   2779          NaN            NaN   \n",
       "mean       NaN   1987.006677   128.127918    NaN     5.841621    1938.520394   \n",
       "std        NaN     25.417491    28.914476    NaN     1.381777   11602.415952   \n",
       "min        NaN   1913.000000     2.000000    NaN     1.100000       5.000000   \n",
       "25%        NaN   1968.000000   110.000000    NaN     4.900000      16.000000   \n",
       "50%        NaN   1991.000000   131.000000    NaN     6.000000      55.000000   \n",
       "75%        NaN   2009.000000   147.000000    NaN     6.800000     404.000000   \n",
       "max        NaN   2022.000000   321.000000    NaN    10.000000  591417.000000   \n",
       "\n",
       "            Director      Actor 1 Actor 2 Actor 3  \n",
       "count          14979        13888   13122   12363  \n",
       "unique          5938         4718    4891    4820  \n",
       "top     Jayant Desai  Ashok Kumar   Rekha    Pran  \n",
       "freq              58          158      83      91  \n",
       "mean             NaN          NaN     NaN     NaN  \n",
       "std              NaN          NaN     NaN     NaN  \n",
       "min              NaN          NaN     NaN     NaN  \n",
       "25%              NaN          NaN     NaN     NaN  \n",
       "50%              NaN          NaN     NaN     NaN  \n",
       "75%              NaN          NaN     NaN     NaN  \n",
       "max              NaN          NaN     NaN     NaN  "
      ]
     },
     "execution_count": 14,
     "metadata": {},
     "output_type": "execute_result"
    }
   ],
   "source": [
    "# Basic Exploratory Data  Analysis\n",
    "dataframe.describe(include='all')"
   ]
  },
  {
   "cell_type": "code",
   "execution_count": 15,
   "id": "d60068a9",
   "metadata": {
    "execution": {
     "iopub.execute_input": "2025-07-20T11:20:51.670069Z",
     "iopub.status.busy": "2025-07-20T11:20:51.669261Z",
     "iopub.status.idle": "2025-07-20T11:20:52.367572Z",
     "shell.execute_reply": "2025-07-20T11:20:52.366504Z"
    },
    "papermill": {
     "duration": 0.70758,
     "end_time": "2025-07-20T11:20:52.368983",
     "exception": false,
     "start_time": "2025-07-20T11:20:51.661403",
     "status": "completed"
    },
    "tags": []
   },
   "outputs": [
    {
     "data": {
      "image/png": "[encoded data removed]",
      "text/plain": [
       "<Figure size 1000x500 with 4 Axes>"
      ]
     },
     "metadata": {},
     "output_type": "display_data"
    }
   ],
   "source": [
    "# Histogram for independent numeric features\n",
    "import matplotlib.pyplot as plt\n",
    "\n",
    "plt.style.use('seaborn-v0_8-white')\n",
    "\n",
    "# Replace df with dataframe\n",
    "dataframe[['Year', 'Duration', 'Votes']].hist(bins=30, edgecolor='black', figsize=(10, 5))\n",
    "\n",
    "plt.suptitle('Histograms of Numeric Features smh')\n",
    "plt.show()\n",
    "\n"
   ]
  },
  {
   "cell_type": "code",
   "execution_count": 16,
   "id": "21122a49",
   "metadata": {
    "execution": {
     "iopub.execute_input": "2025-07-20T11:20:52.386535Z",
     "iopub.status.busy": "2025-07-20T11:20:52.386157Z",
     "iopub.status.idle": "2025-07-20T11:20:52.577989Z",
     "shell.execute_reply": "2025-07-20T11:20:52.576945Z"
    },
    "papermill": {
     "duration": 0.202978,
     "end_time": "2025-07-20T11:20:52.579645",
     "exception": false,
     "start_time": "2025-07-20T11:20:52.376667",
     "status": "completed"
    },
    "tags": []
   },
   "outputs": [
    {
     "data": {
      "image/png": "[encoded data removed]",
      "text/plain": [
       "<Figure size 1000x500 with 1 Axes>"
      ]
     },
     "metadata": {},
     "output_type": "display_data"
    }
   ],
   "source": [
    "# Histogram of Ratings\n",
    "import matplotlib.pyplot as plt\n",
    "\n",
    "dataframe['Rating'].hist(bins=30, edgecolor='black', figsize=(10, 5))\n",
    "\n",
    "plt.suptitle('Distribution of Rating')\n",
    "plt.xlabel('Rating')\n",
    "plt.ylabel('Frequency')\n",
    "plt.show()\n"
   ]
  },
  {
   "cell_type": "code",
   "execution_count": 17,
   "id": "d9acbe9b",
   "metadata": {
    "execution": {
     "iopub.execute_input": "2025-07-20T11:20:52.596271Z",
     "iopub.status.busy": "2025-07-20T11:20:52.595930Z",
     "iopub.status.idle": "2025-07-20T11:20:52.793984Z",
     "shell.execute_reply": "2025-07-20T11:20:52.793024Z"
    },
    "papermill": {
     "duration": 0.20847,
     "end_time": "2025-07-20T11:20:52.795875",
     "exception": false,
     "start_time": "2025-07-20T11:20:52.587405",
     "status": "completed"
    },
    "tags": []
   },
   "outputs": [
    {
     "data": {
      "image/png": "[encoded data removed]",
      "text/plain": [
       "<Figure size 800x400 with 1 Axes>"
      ]
     },
     "metadata": {},
     "output_type": "display_data"
    }
   ],
   "source": [
    "# Average Rating over the Years\n",
    "\n",
    "# Calculate the average rating for each year\n",
    "average_rating_per_year = dataframe.groupby('Year')['Rating'].mean().reset_index()\n",
    "average_rating_per_year.columns = ['Year', 'Average Rating']\n",
    "\n",
    "# Plotting\n",
    "import matplotlib.pyplot as plt\n",
    "\n",
    "plt.figure(figsize=(8, 4))\n",
    "plt.plot(average_rating_per_year['Year'], average_rating_per_year['Average Rating'], linestyle='-')\n",
    "\n",
    "plt.xlabel('Year')\n",
    "plt.ylabel('Average Rating')\n",
    "plt.title('Average Movie Rating Over the Years')\n",
    "plt.grid(True)\n",
    "plt.show()\n"
   ]
  },
  {
   "cell_type": "code",
   "execution_count": 18,
   "id": "632454e3",
   "metadata": {
    "execution": {
     "iopub.execute_input": "2025-07-20T11:20:52.814056Z",
     "iopub.status.busy": "2025-07-20T11:20:52.813733Z",
     "iopub.status.idle": "2025-07-20T11:20:52.820321Z",
     "shell.execute_reply": "2025-07-20T11:20:52.819358Z"
    },
    "papermill": {
     "duration": 0.017562,
     "end_time": "2025-07-20T11:20:52.821953",
     "exception": false,
     "start_time": "2025-07-20T11:20:52.804391",
     "status": "completed"
    },
    "tags": []
   },
   "outputs": [],
   "source": [
    "# Drop the Name column\n",
    "dataframe= dataframe.drop('Name',axis=1)"
   ]
  },
  {
   "cell_type": "code",
   "execution_count": 19,
   "id": "6d193422",
   "metadata": {
    "execution": {
     "iopub.execute_input": "2025-07-20T11:20:52.840455Z",
     "iopub.status.busy": "2025-07-20T11:20:52.840098Z",
     "iopub.status.idle": "2025-07-20T11:20:52.892172Z",
     "shell.execute_reply": "2025-07-20T11:20:52.891297Z"
    },
    "papermill": {
     "duration": 0.06319,
     "end_time": "2025-07-20T11:20:52.893714",
     "exception": false,
     "start_time": "2025-07-20T11:20:52.830524",
     "status": "completed"
    },
    "tags": []
   },
   "outputs": [
    {
     "data": {
      "text/html": [
       "<div>\n",
       "<style scoped>\n",
       "    .dataframe tbody tr th:only-of-type {\n",
       "        vertical-align: middle;\n",
       "    }\n",
       "\n",
       "    .dataframe tbody tr th {\n",
       "        vertical-align: top;\n",
       "    }\n",
       "\n",
       "    .dataframe thead th {\n",
       "        text-align: right;\n",
       "    }\n",
       "</style>\n",
       "<table border=\"1\" class=\"dataframe\">\n",
       "  <thead>\n",
       "    <tr style=\"text-align: right;\">\n",
       "      <th></th>\n",
       "      <th>Year</th>\n",
       "      <th>Duration</th>\n",
       "      <th>Genre</th>\n",
       "      <th>Rating</th>\n",
       "      <th>Votes</th>\n",
       "      <th>Director</th>\n",
       "      <th>Actor 1</th>\n",
       "      <th>Actor 2</th>\n",
       "      <th>Actor 3</th>\n",
       "      <th>Genre_Average_Rating</th>\n",
       "      <th>Director_Average_Rating</th>\n",
       "      <th>Actor1_Average_Rating</th>\n",
       "      <th>Actor2_Average_Rating</th>\n",
       "      <th>Actor3_Average_Rating</th>\n",
       "    </tr>\n",
       "  </thead>\n",
       "  <tbody>\n",
       "    <tr>\n",
       "      <th>0</th>\n",
       "      <td>NaN</td>\n",
       "      <td>NaN</td>\n",
       "      <td>Drama</td>\n",
       "      <td>NaN</td>\n",
       "      <td>NaN</td>\n",
       "      <td>J.S. Randhawa</td>\n",
       "      <td>Manmauji</td>\n",
       "      <td>Birbal</td>\n",
       "      <td>Rajendra Bhatia</td>\n",
       "      <td>6.352082</td>\n",
       "      <td>5.700000</td>\n",
       "      <td>NaN</td>\n",
       "      <td>5.229412</td>\n",
       "      <td>NaN</td>\n",
       "    </tr>\n",
       "    <tr>\n",
       "      <th>1</th>\n",
       "      <td>2019.0</td>\n",
       "      <td>109.0</td>\n",
       "      <td>Drama</td>\n",
       "      <td>7.0</td>\n",
       "      <td>8.0</td>\n",
       "      <td>Gaurav Bakshi</td>\n",
       "      <td>Rasika Dugal</td>\n",
       "      <td>Vivek Ghamande</td>\n",
       "      <td>Arvind Jangid</td>\n",
       "      <td>6.352082</td>\n",
       "      <td>7.000000</td>\n",
       "      <td>6.850000</td>\n",
       "      <td>7.000000</td>\n",
       "      <td>7.000000</td>\n",
       "    </tr>\n",
       "    <tr>\n",
       "      <th>2</th>\n",
       "      <td>2021.0</td>\n",
       "      <td>90.0</td>\n",
       "      <td>Drama, Musical</td>\n",
       "      <td>NaN</td>\n",
       "      <td>NaN</td>\n",
       "      <td>Soumyajit Majumdar</td>\n",
       "      <td>Sayani Gupta</td>\n",
       "      <td>Plabita Borthakur</td>\n",
       "      <td>Roy Angana</td>\n",
       "      <td>6.493103</td>\n",
       "      <td>NaN</td>\n",
       "      <td>7.000000</td>\n",
       "      <td>7.350000</td>\n",
       "      <td>NaN</td>\n",
       "    </tr>\n",
       "    <tr>\n",
       "      <th>3</th>\n",
       "      <td>2019.0</td>\n",
       "      <td>110.0</td>\n",
       "      <td>Comedy, Romance</td>\n",
       "      <td>4.4</td>\n",
       "      <td>35.0</td>\n",
       "      <td>Ovais Khan</td>\n",
       "      <td>Prateik</td>\n",
       "      <td>Ishita Raj</td>\n",
       "      <td>Siddhant Kapoor</td>\n",
       "      <td>5.722500</td>\n",
       "      <td>4.400000</td>\n",
       "      <td>5.420000</td>\n",
       "      <td>4.400000</td>\n",
       "      <td>4.450000</td>\n",
       "    </tr>\n",
       "    <tr>\n",
       "      <th>4</th>\n",
       "      <td>2010.0</td>\n",
       "      <td>105.0</td>\n",
       "      <td>Drama</td>\n",
       "      <td>NaN</td>\n",
       "      <td>NaN</td>\n",
       "      <td>Amol Palekar</td>\n",
       "      <td>Rajat Kapoor</td>\n",
       "      <td>Rituparna Sengupta</td>\n",
       "      <td>Antara Mali</td>\n",
       "      <td>6.352082</td>\n",
       "      <td>6.333333</td>\n",
       "      <td>7.000000</td>\n",
       "      <td>5.742857</td>\n",
       "      <td>5.400000</td>\n",
       "    </tr>\n",
       "    <tr>\n",
       "      <th>...</th>\n",
       "      <td>...</td>\n",
       "      <td>...</td>\n",
       "      <td>...</td>\n",
       "      <td>...</td>\n",
       "      <td>...</td>\n",
       "      <td>...</td>\n",
       "      <td>...</td>\n",
       "      <td>...</td>\n",
       "      <td>...</td>\n",
       "      <td>...</td>\n",
       "      <td>...</td>\n",
       "      <td>...</td>\n",
       "      <td>...</td>\n",
       "      <td>...</td>\n",
       "    </tr>\n",
       "    <tr>\n",
       "      <th>15504</th>\n",
       "      <td>1988.0</td>\n",
       "      <td>NaN</td>\n",
       "      <td>Action</td>\n",
       "      <td>4.6</td>\n",
       "      <td>11.0</td>\n",
       "      <td>Mahendra Shah</td>\n",
       "      <td>Naseeruddin Shah</td>\n",
       "      <td>Sumeet Saigal</td>\n",
       "      <td>Suparna Anand</td>\n",
       "      <td>5.092566</td>\n",
       "      <td>4.075000</td>\n",
       "      <td>6.025532</td>\n",
       "      <td>3.700000</td>\n",
       "      <td>4.600000</td>\n",
       "    </tr>\n",
       "    <tr>\n",
       "      <th>15505</th>\n",
       "      <td>1999.0</td>\n",
       "      <td>129.0</td>\n",
       "      <td>Action, Drama</td>\n",
       "      <td>4.5</td>\n",
       "      <td>655.0</td>\n",
       "      <td>Kuku Kohli</td>\n",
       "      <td>Akshay Kumar</td>\n",
       "      <td>Twinkle Khanna</td>\n",
       "      <td>Aruna Irani</td>\n",
       "      <td>5.468266</td>\n",
       "      <td>5.225000</td>\n",
       "      <td>5.481707</td>\n",
       "      <td>4.645455</td>\n",
       "      <td>5.617143</td>\n",
       "    </tr>\n",
       "    <tr>\n",
       "      <th>15506</th>\n",
       "      <td>2005.0</td>\n",
       "      <td>NaN</td>\n",
       "      <td>Action</td>\n",
       "      <td>NaN</td>\n",
       "      <td>NaN</td>\n",
       "      <td>Kiran Thej</td>\n",
       "      <td>Sangeeta Tiwari</td>\n",
       "      <td>NaN</td>\n",
       "      <td>NaN</td>\n",
       "      <td>5.092566</td>\n",
       "      <td>NaN</td>\n",
       "      <td>NaN</td>\n",
       "      <td>NaN</td>\n",
       "      <td>NaN</td>\n",
       "    </tr>\n",
       "    <tr>\n",
       "      <th>15507</th>\n",
       "      <td>1988.0</td>\n",
       "      <td>NaN</td>\n",
       "      <td>Action</td>\n",
       "      <td>NaN</td>\n",
       "      <td>NaN</td>\n",
       "      <td>NaN</td>\n",
       "      <td>NaN</td>\n",
       "      <td>NaN</td>\n",
       "      <td>NaN</td>\n",
       "      <td>5.092566</td>\n",
       "      <td>NaN</td>\n",
       "      <td>NaN</td>\n",
       "      <td>NaN</td>\n",
       "      <td>NaN</td>\n",
       "    </tr>\n",
       "    <tr>\n",
       "      <th>15508</th>\n",
       "      <td>1998.0</td>\n",
       "      <td>130.0</td>\n",
       "      <td>Action, Drama</td>\n",
       "      <td>6.2</td>\n",
       "      <td>20.0</td>\n",
       "      <td>K.C. Bokadia</td>\n",
       "      <td>Dharmendra</td>\n",
       "      <td>Jaya Prada</td>\n",
       "      <td>Arjun Sarja</td>\n",
       "      <td>5.468266</td>\n",
       "      <td>4.350000</td>\n",
       "      <td>5.742537</td>\n",
       "      <td>5.497500</td>\n",
       "      <td>4.633333</td>\n",
       "    </tr>\n",
       "  </tbody>\n",
       "</table>\n",
       "<p>15503 rows × 14 columns</p>\n",
       "</div>"
      ],
      "text/plain": [
       "         Year  Duration            Genre  Rating  Votes            Director  \\\n",
       "0         NaN       NaN            Drama     NaN    NaN       J.S. Randhawa   \n",
       "1      2019.0     109.0            Drama     7.0    8.0       Gaurav Bakshi   \n",
       "2      2021.0      90.0   Drama, Musical     NaN    NaN  Soumyajit Majumdar   \n",
       "3      2019.0     110.0  Comedy, Romance     4.4   35.0          Ovais Khan   \n",
       "4      2010.0     105.0            Drama     NaN    NaN        Amol Palekar   \n",
       "...       ...       ...              ...     ...    ...                 ...   \n",
       "15504  1988.0       NaN           Action     4.6   11.0       Mahendra Shah   \n",
       "15505  1999.0     129.0    Action, Drama     4.5  655.0          Kuku Kohli   \n",
       "15506  2005.0       NaN           Action     NaN    NaN          Kiran Thej   \n",
       "15507  1988.0       NaN           Action     NaN    NaN                 NaN   \n",
       "15508  1998.0     130.0    Action, Drama     6.2   20.0        K.C. Bokadia   \n",
       "\n",
       "                Actor 1             Actor 2          Actor 3  \\\n",
       "0              Manmauji              Birbal  Rajendra Bhatia   \n",
       "1          Rasika Dugal      Vivek Ghamande    Arvind Jangid   \n",
       "2          Sayani Gupta   Plabita Borthakur       Roy Angana   \n",
       "3               Prateik          Ishita Raj  Siddhant Kapoor   \n",
       "4          Rajat Kapoor  Rituparna Sengupta      Antara Mali   \n",
       "...                 ...                 ...              ...   \n",
       "15504  Naseeruddin Shah       Sumeet Saigal    Suparna Anand   \n",
       "15505      Akshay Kumar      Twinkle Khanna      Aruna Irani   \n",
       "15506   Sangeeta Tiwari                 NaN              NaN   \n",
       "15507               NaN                 NaN              NaN   \n",
       "15508        Dharmendra          Jaya Prada      Arjun Sarja   \n",
       "\n",
       "       Genre_Average_Rating  Director_Average_Rating  Actor1_Average_Rating  \\\n",
       "0                  6.352082                 5.700000                    NaN   \n",
       "1                  6.352082                 7.000000               6.850000   \n",
       "2                  6.493103                      NaN               7.000000   \n",
       "3                  5.722500                 4.400000               5.420000   \n",
       "4                  6.352082                 6.333333               7.000000   \n",
       "...                     ...                      ...                    ...   \n",
       "15504              5.092566                 4.075000               6.025532   \n",
       "15505              5.468266                 5.225000               5.481707   \n",
       "15506              5.092566                      NaN                    NaN   \n",
       "15507              5.092566                      NaN                    NaN   \n",
       "15508              5.468266                 4.350000               5.742537   \n",
       "\n",
       "       Actor2_Average_Rating  Actor3_Average_Rating  \n",
       "0                   5.229412                    NaN  \n",
       "1                   7.000000               7.000000  \n",
       "2                   7.350000                    NaN  \n",
       "3                   4.400000               4.450000  \n",
       "4                   5.742857               5.400000  \n",
       "...                      ...                    ...  \n",
       "15504               3.700000               4.600000  \n",
       "15505               4.645455               5.617143  \n",
       "15506                    NaN                    NaN  \n",
       "15507                    NaN                    NaN  \n",
       "15508               5.497500               4.633333  \n",
       "\n",
       "[15503 rows x 14 columns]"
      ]
     },
     "execution_count": 19,
     "metadata": {},
     "output_type": "execute_result"
    }
   ],
   "source": [
    "# Create new features based on average ratings\n",
    "\n",
    "# Genre-wise average rating\n",
    "Genre_Average_Rating = dataframe.groupby('Genre')['Rating'].transform('mean')\n",
    "dataframe['Genre_Average_Rating'] = Genre_Average_Rating\n",
    "\n",
    "# Director-wise average rating\n",
    "Director_Average_Rating = dataframe.groupby('Director')['Rating'].transform('mean')\n",
    "dataframe['Director_Average_Rating'] = Director_Average_Rating\n",
    "\n",
    "# Actor 1 average rating\n",
    "Actor1_Average_Rating = dataframe.groupby('Actor 1')['Rating'].transform('mean')\n",
    "dataframe['Actor1_Average_Rating'] = Actor1_Average_Rating\n",
    "\n",
    "# Actor 2 average rating\n",
    "Actor2_Average_Rating = dataframe.groupby('Actor 2')['Rating'].transform('mean')\n",
    "dataframe['Actor2_Average_Rating'] = Actor2_Average_Rating\n",
    "\n",
    "# Actor 3 average rating\n",
    "Actor3_Average_Rating = dataframe.groupby('Actor 3')['Rating'].transform('mean')\n",
    "dataframe['Actor3_Average_Rating'] = Actor3_Average_Rating\n",
    "dataframe\n"
   ]
  },
  {
   "cell_type": "code",
   "execution_count": 20,
   "id": "8c10e7e0",
   "metadata": {
    "execution": {
     "iopub.execute_input": "2025-07-20T11:20:52.912663Z",
     "iopub.status.busy": "2025-07-20T11:20:52.912316Z",
     "iopub.status.idle": "2025-07-20T11:20:53.354679Z",
     "shell.execute_reply": "2025-07-20T11:20:53.353662Z"
    },
    "papermill": {
     "duration": 0.453773,
     "end_time": "2025-07-20T11:20:53.356353",
     "exception": false,
     "start_time": "2025-07-20T11:20:52.902580",
     "status": "completed"
    },
    "tags": []
   },
   "outputs": [
    {
     "name": "stdout",
     "output_type": "stream",
     "text": [
      "Mean Absolute Error: 0.54\n",
      "R² Score: 0.66\n"
     ]
    }
   ],
   "source": [
    "# 1️⃣ Preprocessing\n",
    "from sklearn.model_selection import train_test_split\n",
    "from sklearn.linear_model import LinearRegression\n",
    "\n",
    "# Drop rows where Rating is missing (target should never have NaN)\n",
    "dataframe = dataframe.dropna(subset=['Rating'])\n",
    "\n",
    "# Define features and target\n",
    "x = dataframe[['Year', 'Votes', 'Duration',\n",
    "               'Genre_Average_Rating', 'Director_Average_Rating',\n",
    "               'Actor1_Average_Rating', 'Actor2_Average_Rating',\n",
    "               'Actor3_Average_Rating']]\n",
    "\n",
    "y = dataframe['Rating']\n",
    "\n",
    "# Fill missing feature values\n",
    "x = x.fillna(0)\n",
    "\n",
    "# Ensure all feature columns are numeric\n",
    "x = x.apply(pd.to_numeric, errors='coerce').fillna(0)\n",
    "\n",
    "# Split into train and test sets\n",
    "x_train, x_test, y_train, y_test = train_test_split(x, y, test_size=0.2, random_state=42)\n",
    "\n",
    "\n",
    "# 2️⃣ Model Training\n",
    "model = LinearRegression()\n",
    "model.fit(x_train, y_train)\n",
    "\n",
    "# 3️⃣ Predictions\n",
    "y_pred = model.predict(x_test)\n",
    "\n",
    "\n",
    "# 4️⃣ (Optional but Recommended) Model Evaluation\n",
    "from sklearn.metrics import mean_absolute_error, r2_score\n",
    "\n",
    "mae = mean_absolute_error(y_test, y_pred)\n",
    "r2 = r2_score(y_test, y_pred)\n",
    "\n",
    "print(f\"Mean Absolute Error: {mae:.2f}\")\n",
    "print(f\"R² Score: {r2:.2f}\")\n"
   ]
  },
  {
   "cell_type": "code",
   "execution_count": 21,
   "id": "07954829",
   "metadata": {
    "execution": {
     "iopub.execute_input": "2025-07-20T11:20:53.382226Z",
     "iopub.status.busy": "2025-07-20T11:20:53.381393Z",
     "iopub.status.idle": "2025-07-20T11:20:57.283469Z",
     "shell.execute_reply": "2025-07-20T11:20:57.282332Z"
    },
    "papermill": {
     "duration": 3.913949,
     "end_time": "2025-07-20T11:20:57.285169",
     "exception": false,
     "start_time": "2025-07-20T11:20:53.371220",
     "status": "completed"
    },
    "tags": []
   },
   "outputs": [
    {
     "name": "stdout",
     "output_type": "stream",
     "text": [
      "Year                       float64\n",
      "Votes                      float64\n",
      "Duration                   float64\n",
      "Genre_Average_Rating       float64\n",
      "Director_Average_Rating    float64\n",
      "Actor1_Average_Rating      float64\n",
      "Actor2_Average_Rating      float64\n",
      "Actor3_Average_Rating      float64\n",
      "dtype: object\n"
     ]
    }
   ],
   "source": [
    "# Ensure numeric features\n",
    "x_train = x_train.apply(pd.to_numeric, errors='coerce').fillna(0)\n",
    "x_test = x_test.apply(pd.to_numeric, errors='coerce').fillna(0)\n",
    "\n",
    "from sklearn.linear_model import LinearRegression\n",
    "from sklearn.ensemble import RandomForestRegressor\n",
    "\n",
    "# Train Linear Regression\n",
    "fitted_model_lr = LinearRegression()\n",
    "fitted_model_lr.fit(x_train, y_train)\n",
    "y_pred_lr = fitted_model_lr.predict(x_test)\n",
    "\n",
    "# Train Random Forest\n",
    "fitted_model_rf = RandomForestRegressor()\n",
    "fitted_model_rf.fit(x_train, y_train)\n",
    "y_pred_rf = fitted_model_rf.predict(x_test)\n",
    "print(x_train.dtypes)   # Should now show int64 or float64\n",
    "\n",
    "\n"
   ]
  },
  {
   "cell_type": "code",
   "execution_count": 22,
   "id": "258b4a7e",
   "metadata": {
    "execution": {
     "iopub.execute_input": "2025-07-20T11:20:57.304653Z",
     "iopub.status.busy": "2025-07-20T11:20:57.304308Z",
     "iopub.status.idle": "2025-07-20T11:20:57.315657Z",
     "shell.execute_reply": "2025-07-20T11:20:57.314667Z"
    },
    "papermill": {
     "duration": 0.022456,
     "end_time": "2025-07-20T11:20:57.317036",
     "exception": false,
     "start_time": "2025-07-20T11:20:57.294580",
     "status": "completed"
    },
    "tags": []
   },
   "outputs": [
    {
     "name": "stdout",
     "output_type": "stream",
     "text": [
      "   Performance Evaluation for Linear Regression Model: \n",
      "Mean squared error value is:  0.6341321618503396\n",
      "Mean absolute error value is:  0.5449072125476874\n",
      "R2 score value is:  0.6589119655116448\n",
      "\n",
      "   Performance Evaluation for Random Forest Model: \n",
      "Mean squared error value is:  0.377386976010101\n",
      "Mean absolute error value is:  0.4113207070707071\n",
      "R2 score value is:  0.797010481989764\n"
     ]
    }
   ],
   "source": [
    "# Evaluating the model's performance\n",
    "from sklearn.metrics import mean_squared_error, mean_absolute_error, r2_score\n",
    "\n",
    "\n",
    "MSE_lr =  mean_squared_error(y_test, y_pred_lr) \n",
    "MAE_lr = mean_absolute_error(y_test, y_pred_lr)\n",
    "R2_Score_lr = r2_score(y_test, y_pred_lr)\n",
    "\n",
    "print('   Performance Evaluation for Linear Regression Model: ')\n",
    "print('Mean squared error value is: ', MSE_lr)\n",
    "print('Mean absolute error value is: ', MAE_lr)\n",
    "print('R2 score value is: ', R2_Score_lr)\n",
    "\n",
    "MSE_rf =  mean_squared_error(y_test, y_pred_rf) \n",
    "MAE_rf = mean_absolute_error(y_test, y_pred_rf)\n",
    "R2_Score_rf = r2_score(y_test, y_pred_rf)\n",
    "\n",
    "print('\\n   Performance Evaluation for Random Forest Model: ')\n",
    "print('Mean squared error value is: ', MSE_rf)\n",
    "print('Mean absolute error value is: ', MAE_rf)\n",
    "print('R2 score value is: ', R2_Score_rf)"
   ]
  },
  {
   "cell_type": "code",
   "execution_count": 23,
   "id": "9f4a1137",
   "metadata": {
    "execution": {
     "iopub.execute_input": "2025-07-20T11:20:57.336285Z",
     "iopub.status.busy": "2025-07-20T11:20:57.335986Z",
     "iopub.status.idle": "2025-07-20T11:20:57.770367Z",
     "shell.execute_reply": "2025-07-20T11:20:57.769337Z"
    },
    "papermill": {
     "duration": 0.446935,
     "end_time": "2025-07-20T11:20:57.772820",
     "exception": false,
     "start_time": "2025-07-20T11:20:57.325885",
     "status": "completed"
    },
    "tags": []
   },
   "outputs": [
    {
     "data": {
      "image/png": "[encoded data removed]",
      "text/plain": [
       "<Figure size 1000x500 with 1 Axes>"
      ]
     },
     "metadata": {},
     "output_type": "display_data"
    },
    {
     "data": {
      "image/png": "[encoded data removed]",
      "text/plain": [
       "<Figure size 1000x500 with 1 Axes>"
      ]
     },
     "metadata": {},
     "output_type": "display_data"
    }
   ],
   "source": [
    "# Scatter plot for Linear Regression model predictions\n",
    "plt.figure(figsize=(10, 5))\n",
    "plt.scatter(y_test, y_pred_lr, alpha=0.5)\n",
    "plt.title('Linear Regression Model: Actual vs Predicted Ratings')\n",
    "plt.xlabel('Actual Ratings')\n",
    "plt.ylabel('Predicted Ratings')\n",
    "plt.show()\n",
    "\n",
    "# Scatter plot for Random Forest model predictions\n",
    "plt.figure(figsize=(10, 5))\n",
    "plt.scatter(y_test, y_pred_rf, alpha=0.5)\n",
    "plt.title('Random Forest Model: Actual vs Predicted Ratings')\n",
    "plt.xlabel('Actual Ratings')\n",
    "plt.ylabel('Predicted Ratings')\n",
    "plt.show()"
   ]
  },
  {
   "cell_type": "code",
   "execution_count": 24,
   "id": "2c960bce",
   "metadata": {
    "execution": {
     "iopub.execute_input": "2025-07-20T11:20:57.801474Z",
     "iopub.status.busy": "2025-07-20T11:20:57.800561Z",
     "iopub.status.idle": "2025-07-20T11:20:57.815303Z",
     "shell.execute_reply": "2025-07-20T11:20:57.814403Z"
    },
    "papermill": {
     "duration": 0.030451,
     "end_time": "2025-07-20T11:20:57.816748",
     "exception": false,
     "start_time": "2025-07-20T11:20:57.786297",
     "status": "completed"
    },
    "tags": []
   },
   "outputs": [
    {
     "data": {
      "text/html": [
       "<div>\n",
       "<style scoped>\n",
       "    .dataframe tbody tr th:only-of-type {\n",
       "        vertical-align: middle;\n",
       "    }\n",
       "\n",
       "    .dataframe tbody tr th {\n",
       "        vertical-align: top;\n",
       "    }\n",
       "\n",
       "    .dataframe thead th {\n",
       "        text-align: right;\n",
       "    }\n",
       "</style>\n",
       "<table border=\"1\" class=\"dataframe\">\n",
       "  <thead>\n",
       "    <tr style=\"text-align: right;\">\n",
       "      <th></th>\n",
       "      <th>Year</th>\n",
       "      <th>Votes</th>\n",
       "      <th>Duration</th>\n",
       "      <th>Genre_Average_Rating</th>\n",
       "      <th>Director_Average_Rating</th>\n",
       "      <th>Actor1_Average_Rating</th>\n",
       "      <th>Actor2_Average_Rating</th>\n",
       "      <th>Actor3_Average_Rating</th>\n",
       "    </tr>\n",
       "  </thead>\n",
       "  <tbody>\n",
       "    <tr>\n",
       "      <th>1</th>\n",
       "      <td>2019.0</td>\n",
       "      <td>8.0</td>\n",
       "      <td>109.0</td>\n",
       "      <td>6.352082</td>\n",
       "      <td>7.000000</td>\n",
       "      <td>6.850000</td>\n",
       "      <td>7.000000</td>\n",
       "      <td>7.000000</td>\n",
       "    </tr>\n",
       "    <tr>\n",
       "      <th>3</th>\n",
       "      <td>2019.0</td>\n",
       "      <td>35.0</td>\n",
       "      <td>110.0</td>\n",
       "      <td>5.722500</td>\n",
       "      <td>4.400000</td>\n",
       "      <td>5.420000</td>\n",
       "      <td>4.400000</td>\n",
       "      <td>4.450000</td>\n",
       "    </tr>\n",
       "    <tr>\n",
       "      <th>5</th>\n",
       "      <td>1997.0</td>\n",
       "      <td>827.0</td>\n",
       "      <td>147.0</td>\n",
       "      <td>6.224490</td>\n",
       "      <td>5.358824</td>\n",
       "      <td>4.788889</td>\n",
       "      <td>5.786667</td>\n",
       "      <td>5.846154</td>\n",
       "    </tr>\n",
       "    <tr>\n",
       "      <th>6</th>\n",
       "      <td>2005.0</td>\n",
       "      <td>1086.0</td>\n",
       "      <td>142.0</td>\n",
       "      <td>6.820000</td>\n",
       "      <td>7.500000</td>\n",
       "      <td>5.356000</td>\n",
       "      <td>6.050000</td>\n",
       "      <td>6.500000</td>\n",
       "    </tr>\n",
       "    <tr>\n",
       "      <th>8</th>\n",
       "      <td>2012.0</td>\n",
       "      <td>326.0</td>\n",
       "      <td>82.0</td>\n",
       "      <td>5.463636</td>\n",
       "      <td>5.600000</td>\n",
       "      <td>5.600000</td>\n",
       "      <td>5.883333</td>\n",
       "      <td>5.600000</td>\n",
       "    </tr>\n",
       "    <tr>\n",
       "      <th>9</th>\n",
       "      <td>2014.0</td>\n",
       "      <td>11.0</td>\n",
       "      <td>116.0</td>\n",
       "      <td>5.274074</td>\n",
       "      <td>4.000000</td>\n",
       "      <td>4.000000</td>\n",
       "      <td>4.550000</td>\n",
       "      <td>4.000000</td>\n",
       "    </tr>\n",
       "    <tr>\n",
       "      <th>10</th>\n",
       "      <td>2004.0</td>\n",
       "      <td>17.0</td>\n",
       "      <td>96.0</td>\n",
       "      <td>6.352082</td>\n",
       "      <td>6.200000</td>\n",
       "      <td>5.235294</td>\n",
       "      <td>5.361538</td>\n",
       "      <td>5.233333</td>\n",
       "    </tr>\n",
       "    <tr>\n",
       "      <th>11</th>\n",
       "      <td>2016.0</td>\n",
       "      <td>59.0</td>\n",
       "      <td>120.0</td>\n",
       "      <td>4.635659</td>\n",
       "      <td>6.950000</td>\n",
       "      <td>5.780000</td>\n",
       "      <td>5.900000</td>\n",
       "      <td>5.900000</td>\n",
       "    </tr>\n",
       "    <tr>\n",
       "      <th>12</th>\n",
       "      <td>1991.0</td>\n",
       "      <td>983.0</td>\n",
       "      <td>161.0</td>\n",
       "      <td>5.400000</td>\n",
       "      <td>4.790000</td>\n",
       "      <td>5.123636</td>\n",
       "      <td>5.759259</td>\n",
       "      <td>5.164286</td>\n",
       "    </tr>\n",
       "    <tr>\n",
       "      <th>13</th>\n",
       "      <td>2012.0</td>\n",
       "      <td>512.0</td>\n",
       "      <td>166.0</td>\n",
       "      <td>5.739906</td>\n",
       "      <td>5.700000</td>\n",
       "      <td>6.300000</td>\n",
       "      <td>5.700000</td>\n",
       "      <td>5.700000</td>\n",
       "    </tr>\n",
       "  </tbody>\n",
       "</table>\n",
       "</div>"
      ],
      "text/plain": [
       "      Year   Votes  Duration  Genre_Average_Rating  Director_Average_Rating  \\\n",
       "1   2019.0     8.0     109.0              6.352082                 7.000000   \n",
       "3   2019.0    35.0     110.0              5.722500                 4.400000   \n",
       "5   1997.0   827.0     147.0              6.224490                 5.358824   \n",
       "6   2005.0  1086.0     142.0              6.820000                 7.500000   \n",
       "8   2012.0   326.0      82.0              5.463636                 5.600000   \n",
       "9   2014.0    11.0     116.0              5.274074                 4.000000   \n",
       "10  2004.0    17.0      96.0              6.352082                 6.200000   \n",
       "11  2016.0    59.0     120.0              4.635659                 6.950000   \n",
       "12  1991.0   983.0     161.0              5.400000                 4.790000   \n",
       "13  2012.0   512.0     166.0              5.739906                 5.700000   \n",
       "\n",
       "    Actor1_Average_Rating  Actor2_Average_Rating  Actor3_Average_Rating  \n",
       "1                6.850000               7.000000               7.000000  \n",
       "3                5.420000               4.400000               4.450000  \n",
       "5                4.788889               5.786667               5.846154  \n",
       "6                5.356000               6.050000               6.500000  \n",
       "8                5.600000               5.883333               5.600000  \n",
       "9                4.000000               4.550000               4.000000  \n",
       "10               5.235294               5.361538               5.233333  \n",
       "11               5.780000               5.900000               5.900000  \n",
       "12               5.123636               5.759259               5.164286  \n",
       "13               6.300000               5.700000               5.700000  "
      ]
     },
     "execution_count": 24,
     "metadata": {},
     "output_type": "execute_result"
    }
   ],
   "source": [
    "x.head(10)"
   ]
  },
  {
   "cell_type": "code",
   "execution_count": 25,
   "id": "776d6d8e",
   "metadata": {
    "execution": {
     "iopub.execute_input": "2025-07-20T11:20:57.844161Z",
     "iopub.status.busy": "2025-07-20T11:20:57.843356Z",
     "iopub.status.idle": "2025-07-20T11:20:57.850184Z",
     "shell.execute_reply": "2025-07-20T11:20:57.849473Z"
    },
    "papermill": {
     "duration": 0.021978,
     "end_time": "2025-07-20T11:20:57.851656",
     "exception": false,
     "start_time": "2025-07-20T11:20:57.829678",
     "status": "completed"
    },
    "tags": []
   },
   "outputs": [
    {
     "data": {
      "text/plain": [
       "1     7.0\n",
       "3     4.4\n",
       "5     4.7\n",
       "6     7.4\n",
       "8     5.6\n",
       "9     4.0\n",
       "10    6.2\n",
       "11    5.9\n",
       "12    6.5\n",
       "13    5.7\n",
       "Name: Rating, dtype: float64"
      ]
     },
     "execution_count": 25,
     "metadata": {},
     "output_type": "execute_result"
    }
   ],
   "source": [
    "y.head(10)"
   ]
  },
  {
   "cell_type": "code",
   "execution_count": 26,
   "id": "a96a526f",
   "metadata": {
    "execution": {
     "iopub.execute_input": "2025-07-20T11:20:57.879367Z",
     "iopub.status.busy": "2025-07-20T11:20:57.878614Z",
     "iopub.status.idle": "2025-07-20T11:20:57.884091Z",
     "shell.execute_reply": "2025-07-20T11:20:57.883243Z"
    },
    "papermill": {
     "duration": 0.020868,
     "end_time": "2025-07-20T11:20:57.885673",
     "exception": false,
     "start_time": "2025-07-20T11:20:57.864805",
     "status": "completed"
    },
    "tags": []
   },
   "outputs": [],
   "source": [
    "# Create new trial dataframe to testing\n",
    "\n",
    "data = {'Year': [2018], 'Votes': [100] ,'Duration': [130], 'Genre_Average_Rating':[6.0],'Director_Average_Rating':[6.5],'Actor1_Average_Rating':[5.5],'Actor2_Average_Rating':[5.8],'Actor3_Average_Rating':[5.3]}\n",
    "trail_data = pd.DataFrame(data)"
   ]
  },
  {
   "cell_type": "code",
   "execution_count": 27,
   "id": "86f5165d",
   "metadata": {
    "execution": {
     "iopub.execute_input": "2025-07-20T11:20:57.912841Z",
     "iopub.status.busy": "2025-07-20T11:20:57.912537Z",
     "iopub.status.idle": "2025-07-20T11:20:57.923730Z",
     "shell.execute_reply": "2025-07-20T11:20:57.922662Z"
    },
    "papermill": {
     "duration": 0.0264,
     "end_time": "2025-07-20T11:20:57.925163",
     "exception": false,
     "start_time": "2025-07-20T11:20:57.898763",
     "status": "completed"
    },
    "tags": []
   },
   "outputs": [
    {
     "name": "stdout",
     "output_type": "stream",
     "text": [
      "Predicted Rating for trial data:  5.716999999999998\n"
     ]
    }
   ],
   "source": [
    "# Predict rating using trial data\n",
    "predict_rating = fitted_model_rf.predict(trail_data)\n",
    "print('Predicted Rating for trial data: ',predict_rating[0])"
   ]
  },
  {
   "cell_type": "code",
   "execution_count": 28,
   "id": "99a214f6",
   "metadata": {
    "execution": {
     "iopub.execute_input": "2025-07-20T11:20:57.952005Z",
     "iopub.status.busy": "2025-07-20T11:20:57.951681Z",
     "iopub.status.idle": "2025-07-20T11:20:58.008699Z",
     "shell.execute_reply": "2025-07-20T11:20:58.007643Z"
    },
    "papermill": {
     "duration": 0.072159,
     "end_time": "2025-07-20T11:20:58.010236",
     "exception": false,
     "start_time": "2025-07-20T11:20:57.938077",
     "status": "completed"
    },
    "tags": []
   },
   "outputs": [
    {
     "name": "stdout",
     "output_type": "stream",
     "text": [
      "Submission file 'submission.csv' created successfully.\n"
     ]
    }
   ],
   "source": [
    "# Predict on your x_test\n",
    "y_pred_submission = fitted_model_rf.predict(x_test)\n",
    "\n",
    "# Create submission DataFrame\n",
    "submission = pd.DataFrame({\n",
    "    'Id': x_test.index,      \n",
    "    'Rating': y_pred_submission\n",
    "})\n",
    "\n",
    "# Save to CSV \n",
    "submission.to_csv('submission.csv', index=False)\n",
    "print(\"Submission file 'submission.csv' created successfully.\")\n"
   ]
  }
 ],
 "metadata": {
  "kaggle": {
   "accelerator": "none",
   "dataSources": [
    {
     "datasetId": 1416444,
     "sourceId": 2346296,
     "sourceType": "datasetVersion"
    }
   ],
   "dockerImageVersionId": 31089,
   "isGpuEnabled": false,
   "isInternetEnabled": true,
   "language": "python",
   "sourceType": "notebook"
  },
  "kernelspec": {
   "display_name": "Python 3",
   "language": "python",
   "name": "python3"
  },
  "language_info": {
   "codemirror_mode": {
    "name": "ipython",
    "version": 3
   },
   "file_extension": ".py",
   "mimetype": "text/x-python",
   "name": "python",
   "nbconvert_exporter": "python",
   "pygments_lexer": "ipython3",
   "version": "3.11.13"
  },
  "papermill": {
   "default_parameters": {},
   "duration": 17.280293,
   "end_time": "2025-07-20T11:20:58.846605",
   "environment_variables": {},
   "exception": null,
   "input_path": "__notebook__.ipynb",
   "output_path": "__notebook__.ipynb",
   "parameters": {},
   "start_time": "2025-07-20T11:20:41.566312",
   "version": "2.6.0"
  }
 },
 "nbformat": 4,
 "nbformat_minor": 5
}
